{
 "cells": [
  {
   "cell_type": "markdown",
   "metadata": {},
   "source": [
    "Suppose that $P(x)$ is known and that $y = f(x)$, monotonic, etc.  Then, $P(x)dx = P(y)dy$.  Then\n",
    "\n",
    "$$\n",
    "  P(y) = P(x) \\left | \\frac{dx}{dy} \\right | \\, .\n",
    "$$"
   ]
  },
  {
   "cell_type": "markdown",
   "metadata": {},
   "source": [
    "Example:  $P(x) = 1$ for $x \\in [0, 1]$.\n",
    "\n",
    "Define $y = f(x) = x^2 \\rightarrow dy = 2x dx \\rightarrow dy = 2\\sqrt{y} dx$"
   ]
  },
  {
   "cell_type": "code",
   "execution_count": 20,
   "metadata": {},
   "outputs": [
    {
     "data": {
      "text/plain": [
       "(array([ 972.,  961.,  977.,  996., 1034., 1027., 1056., 1060.,  997.,\n",
       "         977.,  934., 1018.,  984.,  952.,  973., 1008., 1016., 1007.,\n",
       "         984.,  937., 1056., 1021.,  971.,  967., 1026., 1043., 1052.,\n",
       "        1001., 1036., 1008., 1021., 1002., 1001., 1079.,  938., 1014.,\n",
       "         992., 1014., 1001.,  948., 1067., 1036.,  989., 1035.,  997.,\n",
       "         991.,  999.,  988., 1008.,  984., 1004.,  985., 1013., 1013.,\n",
       "         982.,  958.,  981.,  979., 1001.,  971.,  969., 1040.,  968.,\n",
       "         972., 1059., 1003.,  995., 1054.,  942., 1009., 1032.,  967.,\n",
       "         952.,  954.,  998., 1002.,  974., 1019.,  980.,  948., 1009.,\n",
       "         964., 1047.,  997., 1007., 1008.,  994., 1014., 1015., 1011.,\n",
       "        1017., 1063.,  912., 1037.,  996., 1007.,  986., 1027., 1001.,\n",
       "        1009.]),\n",
       " array([4.29738633e-06, 1.00041715e-02, 2.00040457e-02, 3.00039198e-02,\n",
       "        4.00037940e-02, 5.00036681e-02, 6.00035423e-02, 7.00034164e-02,\n",
       "        8.00032906e-02, 9.00031647e-02, 1.00003039e-01, 1.10002913e-01,\n",
       "        1.20002787e-01, 1.30002661e-01, 1.40002535e-01, 1.50002410e-01,\n",
       "        1.60002284e-01, 1.70002158e-01, 1.80002032e-01, 1.90001906e-01,\n",
       "        2.00001780e-01, 2.10001654e-01, 2.20001529e-01, 2.30001403e-01,\n",
       "        2.40001277e-01, 2.50001151e-01, 2.60001025e-01, 2.70000899e-01,\n",
       "        2.80000774e-01, 2.90000648e-01, 3.00000522e-01, 3.10000396e-01,\n",
       "        3.20000270e-01, 3.30000144e-01, 3.40000018e-01, 3.49999893e-01,\n",
       "        3.59999767e-01, 3.69999641e-01, 3.79999515e-01, 3.89999389e-01,\n",
       "        3.99999263e-01, 4.09999137e-01, 4.19999012e-01, 4.29998886e-01,\n",
       "        4.39998760e-01, 4.49998634e-01, 4.59998508e-01, 4.69998382e-01,\n",
       "        4.79998256e-01, 4.89998131e-01, 4.99998005e-01, 5.09997879e-01,\n",
       "        5.19997753e-01, 5.29997627e-01, 5.39997501e-01, 5.49997375e-01,\n",
       "        5.59997250e-01, 5.69997124e-01, 5.79996998e-01, 5.89996872e-01,\n",
       "        5.99996746e-01, 6.09996620e-01, 6.19996495e-01, 6.29996369e-01,\n",
       "        6.39996243e-01, 6.49996117e-01, 6.59995991e-01, 6.69995865e-01,\n",
       "        6.79995739e-01, 6.89995614e-01, 6.99995488e-01, 7.09995362e-01,\n",
       "        7.19995236e-01, 7.29995110e-01, 7.39994984e-01, 7.49994858e-01,\n",
       "        7.59994733e-01, 7.69994607e-01, 7.79994481e-01, 7.89994355e-01,\n",
       "        7.99994229e-01, 8.09994103e-01, 8.19993977e-01, 8.29993852e-01,\n",
       "        8.39993726e-01, 8.49993600e-01, 8.59993474e-01, 8.69993348e-01,\n",
       "        8.79993222e-01, 8.89993096e-01, 8.99992971e-01, 9.09992845e-01,\n",
       "        9.19992719e-01, 9.29992593e-01, 9.39992467e-01, 9.49992341e-01,\n",
       "        9.59992216e-01, 9.69992090e-01, 9.79991964e-01, 9.89991838e-01,\n",
       "        9.99991712e-01]),\n",
       " <a list of 100 Patch objects>)"
      ]
     },
     "execution_count": 20,
     "metadata": {},
     "output_type": "execute_result"
    },
    {
     "data": {
      "image/png": "[encoded data removed]",
      "text/plain": [
       "<Figure size 432x288 with 1 Axes>"
      ]
     },
     "metadata": {
      "needs_background": "light"
     },
     "output_type": "display_data"
    }
   ],
   "source": [
    "import numpy as np\n",
    "import matplotlib.pyplot as plt\n",
    "\n",
    "n = 100000\n",
    "x_samples = np.random.rand(n)\n",
    "plt.hist(x_samples, 100)"
   ]
  },
  {
   "cell_type": "markdown",
   "metadata": {},
   "source": [
    "$$\n",
    "P(y) = 1 \\frac{dx}{dy}  = 1 \\frac{1}{2x} dx  = \\frac{1}{2\\sqrt{y}} dy \n",
    "$$"
   ]
  },
  {
   "cell_type": "code",
   "execution_count": 10,
   "metadata": {},
   "outputs": [],
   "source": [
    "from scipy.integrate import quad"
   ]
  },
  {
   "cell_type": "code",
   "execution_count": 11,
   "metadata": {},
   "outputs": [
    {
     "data": {
      "text/plain": [
       "(1.0, 1.1102230246251565e-14)"
      ]
     },
     "execution_count": 11,
     "metadata": {},
     "output_type": "execute_result"
    }
   ],
   "source": [
    "quad(lambda x: 1, 0, 1)"
   ]
  },
  {
   "cell_type": "code",
   "execution_count": 13,
   "metadata": {},
   "outputs": [
    {
     "data": {
      "text/plain": [
       "(0.9999999999999992, 2.886579864025407e-15)"
      ]
     },
     "execution_count": 13,
     "metadata": {},
     "output_type": "execute_result"
    }
   ],
   "source": [
    "quad(lambda y: 1/(2*np.sqrt(y)), 0, 1)"
   ]
  },
  {
   "cell_type": "code",
   "execution_count": 22,
   "metadata": {},
   "outputs": [
    {
     "data": {
      "text/plain": [
       "(array([10057.,  4046.,  3160.,  2607.,  2442.,  2091.,  2014.,  1880.,\n",
       "         1753.,  1650.,  1556.,  1469.,  1447.,  1339.,  1354.,  1196.,\n",
       "         1316.,  1206.,  1178.,  1131.,  1096.,  1089.,  1049.,  1037.,\n",
       "          991.,   995.,   960.,   966.,   952.,   887.,   893.,   849.,\n",
       "          875.,   862.,   824.,   825.,   817.,   819.,   792.,   813.,\n",
       "          748.,   813.,   785.,   740.,   747.,   803.,   717.,   705.,\n",
       "          712.,   714.,   707.,   683.,   658.,   639.,   678.,   655.,\n",
       "          680.,   625.,   668.,   643.,   640.,   639.,   610.,   587.,\n",
       "          646.,   617.,   578.,   619.,   624.,   588.,   602.,   622.,\n",
       "          551.,   608.,   579.,   567.,   566.,   597.,   569.,   583.,\n",
       "          550.,   549.,   551.,   589.,   568.,   477.,   567.,   517.,\n",
       "          540.,   541.,   555.,   499.,   516.,   497.,   536.,   523.,\n",
       "          513.,   503.,   494.,   520.]),\n",
       " array([1.84675293e-11, 9.99983426e-03, 1.99996685e-02, 2.99995027e-02,\n",
       "        3.99993370e-02, 4.99991712e-02, 5.99990055e-02, 6.99988397e-02,\n",
       "        7.99986740e-02, 8.99985082e-02, 9.99983424e-02, 1.09998177e-01,\n",
       "        1.19998011e-01, 1.29997845e-01, 1.39997679e-01, 1.49997514e-01,\n",
       "        1.59997348e-01, 1.69997182e-01, 1.79997016e-01, 1.89996851e-01,\n",
       "        1.99996685e-01, 2.09996519e-01, 2.19996353e-01, 2.29996188e-01,\n",
       "        2.39996022e-01, 2.49995856e-01, 2.59995690e-01, 2.69995525e-01,\n",
       "        2.79995359e-01, 2.89995193e-01, 2.99995027e-01, 3.09994862e-01,\n",
       "        3.19994696e-01, 3.29994530e-01, 3.39994364e-01, 3.49994198e-01,\n",
       "        3.59994033e-01, 3.69993867e-01, 3.79993701e-01, 3.89993535e-01,\n",
       "        3.99993370e-01, 4.09993204e-01, 4.19993038e-01, 4.29992872e-01,\n",
       "        4.39992707e-01, 4.49992541e-01, 4.59992375e-01, 4.69992209e-01,\n",
       "        4.79992044e-01, 4.89991878e-01, 4.99991712e-01, 5.09991546e-01,\n",
       "        5.19991381e-01, 5.29991215e-01, 5.39991049e-01, 5.49990883e-01,\n",
       "        5.59990718e-01, 5.69990552e-01, 5.79990386e-01, 5.89990220e-01,\n",
       "        5.99990055e-01, 6.09989889e-01, 6.19989723e-01, 6.29989557e-01,\n",
       "        6.39989392e-01, 6.49989226e-01, 6.59989060e-01, 6.69988894e-01,\n",
       "        6.79988728e-01, 6.89988563e-01, 6.99988397e-01, 7.09988231e-01,\n",
       "        7.19988065e-01, 7.29987900e-01, 7.39987734e-01, 7.49987568e-01,\n",
       "        7.59987402e-01, 7.69987237e-01, 7.79987071e-01, 7.89986905e-01,\n",
       "        7.99986739e-01, 8.09986574e-01, 8.19986408e-01, 8.29986242e-01,\n",
       "        8.39986076e-01, 8.49985911e-01, 8.59985745e-01, 8.69985579e-01,\n",
       "        8.79985413e-01, 8.89985248e-01, 8.99985082e-01, 9.09984916e-01,\n",
       "        9.19984750e-01, 9.29984585e-01, 9.39984419e-01, 9.49984253e-01,\n",
       "        9.59984087e-01, 9.69983922e-01, 9.79983756e-01, 9.89983590e-01,\n",
       "        9.99983424e-01]),\n",
       " <a list of 100 Patch objects>)"
      ]
     },
     "execution_count": 22,
     "metadata": {},
     "output_type": "execute_result"
    },
    {
     "data": {
      "image/png": "[encoded data removed]",
      "text/plain": [
       "<Figure size 432x288 with 1 Axes>"
      ]
     },
     "metadata": {
      "needs_background": "light"
     },
     "output_type": "display_data"
    }
   ],
   "source": [
    "y_samples = x_samples**2\n",
    "plt.hist(y_samples, 100)"
   ]
  },
  {
   "cell_type": "code",
   "execution_count": 23,
   "metadata": {},
   "outputs": [
    {
     "data": {
      "text/plain": [
       "(0, 10)"
      ]
     },
     "execution_count": 23,
     "metadata": {},
     "output_type": "execute_result"
    },
    {
     "data": {
      "image/png": "[encoded data removed]",
      "text/plain": [
       "<Figure size 432x288 with 1 Axes>"
      ]
     },
     "metadata": {
      "needs_background": "light"
     },
     "output_type": "display_data"
    }
   ],
   "source": [
    "y = np.linspace(1e-6, 1, 100)\n",
    "plt.plot(y, 1/2/np.sqrt(y))\n",
    "plt.ylim(0, 10)"
   ]
  },
  {
   "cell_type": "code",
   "execution_count": 41,
   "metadata": {},
   "outputs": [
    {
     "data": {
      "text/plain": [
       "2396.8063858108835"
      ]
     },
     "execution_count": 41,
     "metadata": {},
     "output_type": "execute_result"
    }
   ],
   "source": [
    "m = 940e6 # MeV/c^2  mass neutron\n",
    "0.03 # eV energy neutron    E = 1/2 m v^2    sqrt(2 * E/ m) vnp\n",
    "np.sqrt(2*.03/m*9e16)"
   ]
  },
  {
   "cell_type": "code",
   "execution_count": 32,
   "metadata": {},
   "outputs": [
    {
     "data": {
      "text/plain": [
       "2383.028226734162"
      ]
     },
     "execution_count": 32,
     "metadata": {},
     "output_type": "execute_result"
    }
   ],
   "source": [
    "np.sqrt(0.03*1.609e-19 / (0.5*1.7e-27))"
   ]
  },
  {
   "cell_type": "code",
   "execution_count": null,
   "metadata": {},
   "outputs": [],
   "source": []
  }
 ],
 "metadata": {
  "kernelspec": {
   "display_name": "Python 3",
   "language": "python",
   "name": "python3"
  },
  "language_info": {
   "codemirror_mode": {
    "name": "ipython",
    "version": 3
   },
   "file_extension": ".py",
   "mimetype": "text/x-python",
   "name": "python",
   "nbconvert_exporter": "python",
   "pygments_lexer": "ipython3",
   "version": "3.7.3"
  }
 },
 "nbformat": 4,
 "nbformat_minor": 2
}
