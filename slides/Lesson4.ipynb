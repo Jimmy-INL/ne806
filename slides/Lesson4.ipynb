{
 "cells": [
  {
   "cell_type": "markdown",
   "metadata": {
    "slideshow": {
     "slide_type": "slide"
    }
   },
   "source": [
    "# ME 806 - Lesson 4\n",
    "\n",
    "The slowing down solution. Resonances and classical treatments. Numerical solutions."
   ]
  },
  {
   "cell_type": "markdown",
   "metadata": {
    "slideshow": {
     "slide_type": "subslide"
    }
   },
   "source": [
    "## Objectives\n",
    "\n",
    "  - Derive slowing-down equation and examine rudimentary solutions\n",
    "  - Derive and apply classical NR and WR approximations\n",
    "  - Numerically solve slowing-down equation\n",
    "  - Understand origin of Doppler broadening and how to apply it to point-wise data\n"
   ]
  },
  {
   "cell_type": "markdown",
   "metadata": {
    "slideshow": {
     "slide_type": "subslide"
    }
   },
   "source": [
    "## Readings\n",
    "\n",
    "  - DH 315--347. \n",
    "  - (BG 389--443)\n",
    "  - Cullen paper"
   ]
  },
  {
   "cell_type": "markdown",
   "metadata": {
    "slideshow": {
     "slide_type": "slide"
    }
   },
   "source": [
    "# Analytical Treatments of Slowing Down Through Resonances\n",
    "\n",
    "Start with the transport equation (*sans* fission):\n",
    "\n",
    "$$\n",
    "\\begin{split}\n",
    "\\frac{1}{v} \\frac{\\partial \\psi }{\\partial t} \n",
    "  & = - \\hat{\\mathbf{\\Omega}} \\cdot \\nabla \\psi (\\mathbf{r}, \\hat{\\mathbf{\\Omega}}, E, t) \\\\\n",
    "     & - \\Sigma_t(\\mathbf{r}, E, t) \\psi(\\mathbf{r}, \\hat{\\mathbf{\\Omega}}, E, t) \\\\\n",
    "      &+ \\int_{4\\pi} \\int^{\\infty}_0 d\\Omega' dE' \\Sigma_s(\\mathbf{r}, \\hat{\\mathbf{\\Omega}}' \\to \\hat{\\mathbf{\\Omega}}, E'\\to E) \\psi(\\mathbf{r}, \\hat{\\mathbf{\\Omega}}', E', t) \\\\\n",
    "      &+ \\mathbf{s}  (\\mathbf{r}, \\hat{\\mathbf{\\Omega}}, E, t) \\, .\n",
    "\\end{split}\n",
    "$$"
   ]
  },
  {
   "cell_type": "markdown",
   "metadata": {
    "slideshow": {
     "slide_type": "subslide"
    }
   },
   "source": [
    "If we:\n",
    "  - assume no time dependence\n",
    "  - assume no space dependence\n",
    "  - assume no angle dependence \n",
    "  - integration over $4\\pi$\n",
    "  "
   ]
  },
  {
   "cell_type": "markdown",
   "metadata": {
    "slideshow": {
     "slide_type": "fragment"
    }
   },
   "source": [
    "we get the *spectrum* equation\n",
    "\n",
    "$$\n",
    "\\Sigma_t(E) \\phi(E) = \n",
    "   \\int^{\\infty}_0   dE' \\Sigma_s(E'\\to E) \\phi(E')\n",
    "      + S(E) \\, .\n",
    "$$"
   ]
  },
  {
   "cell_type": "markdown",
   "metadata": {
    "slideshow": {
     "slide_type": "subslide"
    }
   },
   "source": [
    "From last time, isotropic scattering (in CM) led to:\n",
    "\n",
    "$$\n",
    " P(E\\to E') =\n",
    "        \\left\\{\n",
    "           \\begin{array}{l l}\n",
    "               \\frac{1}{E(1-\\alpha)} & \\quad \\alpha E \\leq E' \\leq E \\\\\n",
    "               0                     & \\quad \\text{otherwise} \\, ,\n",
    "            \\end{array} \n",
    "        \\right.\n",
    "$$"
   ]
  },
  {
   "cell_type": "markdown",
   "metadata": {
    "slideshow": {
     "slide_type": "fragment"
    }
   },
   "source": [
    "which leads to\n",
    "\n",
    "\n",
    "$$\n",
    " \\Sigma_s(E'\\to E) =\n",
    "        \\left\\{\n",
    "           \\begin{array}{l l}\n",
    "               \\frac{\\Sigma_s(E')}{E'(1-\\alpha)} & \\quad \\alpha E' \\leq E \\leq E' \\\\\n",
    "               0                     & \\quad \\text{otherwise} \\, ,\n",
    "            \\end{array} \n",
    "        \\right.\n",
    "$$"
   ]
  },
  {
   "cell_type": "markdown",
   "metadata": {
    "slideshow": {
     "slide_type": "slide"
    }
   },
   "source": [
    "## Slowing-Down Equation\n",
    "\n",
    "$$\n",
    "\\begin{split} \n",
    "     \\Bigg ( N_r \\sigma_{t,r}(E) &+ \n",
    "             \\sum_{k\\neq r} N_k \\sigma_{s,k} \n",
    "     \\Bigg ) \\phi(E) = \\\\\n",
    "       & \\frac{1}{1-\\alpha_r} \n",
    "          \\int^{E/\\alpha_r}_E N_r \\sigma_{s,r} (E') \\phi(E') \\frac{dE'}{E'} \\\\\n",
    "       &+ \\sum_{k\\neq r} \\frac{1}{1-\\alpha_k} \n",
    "          \\int^{E/\\alpha_k}_E N_k \\sigma_{s,k} \\phi(E') \\frac{dE'}{E'} \\, ,\n",
    "\\end{split} \n",
    "$$"
   ]
  },
  {
   "cell_type": "markdown",
   "metadata": {
    "slideshow": {
     "slide_type": "subslide"
    }
   },
   "source": [
    "## Resonances are Narrow(ish)\n",
    "\n",
    "Assume the *practical* width of a resonance is always much smaller than the energy lost by a neutron scattering with all  non-resonant nuclides.  Then $\\phi \\propto 1/E$ in these non-resonant integrals so that\n",
    "\n",
    "$$\n",
    "\\begin{split}\n",
    "  \\frac{N_k \\sigma_{s,k}}{1-\\alpha_k}  \n",
    "       \\int^{E/\\alpha_k}_E  \\frac{1}{E'} \\frac{dE'}{E'}\n",
    "  &\\approx  \\frac{N_k \\sigma_{s,k}}{E} \\, .\n",
    "\\end{split}          \n",
    "$$"
   ]
  },
  {
   "cell_type": "markdown",
   "metadata": {
    "slideshow": {
     "slide_type": "subslide"
    }
   },
   "source": [
    "## Narrow Resonance Approximation\n",
    "\n",
    "Assume that $\\sigma_{s,r}(E) \\approx \\sigma_{s,r}$ and that the energy lost by elastic collisions with the resonance isotope is *large* compared to the resonance width.  The resulting spectrum is:\n",
    "\n",
    "$$\n",
    " \\phi_{\\text{NR}}(E) = \n",
    "   \\frac{ \\Sigma_{s,r} + \\Sigma_{s,nr} }{ \\Sigma_{t}(E) E } \n",
    "   \\propto \\frac{1}{N_r(\\sigma_{t,r}(E) + \\Sigma_{s,nr}/N_r)E} \\, ,\n",
    "$$\n",
    "\n",
    "where $\\Sigma_{s,nr} = \\sum_{k\\ne r} \\Sigma_{s, k}$ and $\\Sigma_{t,k}\\approx \\Sigma_{s,k}$, i.e., absorption in the non resonator is negligible."
   ]
  },
  {
   "cell_type": "markdown",
   "metadata": {
    "slideshow": {
     "slide_type": "subslide"
    }
   },
   "source": [
    "## Wide Resonance Approximation\n",
    "\n",
    "Assume now that the energy lost by a neutron scattering off the resonant nuclide is *negligible*. Then\n",
    "\n",
    "$$\n",
    "\\begin{split}\n",
    " \\lim_{\\alpha_r \\to 1} & \\left [ \\frac{1}{1-\\alpha_r} \n",
    "          \\int^{E/\\alpha_r}_E N_k \\sigma_{s,r} (E') \\phi(E') \\frac{dE'}{E'} \\right ] \\\\ \n",
    "  &\\approx  N_k \\sigma_{s,r} (E) \\phi(E) \\, .\n",
    "\\end{split}\n",
    "$$\n",
    "\n",
    "and\n",
    "\n",
    "$$\n",
    " \\phi_{\\text{WR}} = \\frac{\\sum\\limits_{k\\neq r} \\Sigma_{s,k} }{[\\Sigma_t(E) - \\Sigma_{s,r}(E)]E } \n",
    "     \\propto \\frac{1}{N_r(\\sigma_{a, r}(E)+\\Sigma_{s,nr}/N_r)E} \\, .\n",
    "$$"
   ]
  },
  {
   "cell_type": "markdown",
   "metadata": {
    "slideshow": {
     "slide_type": "subslide"
    }
   },
   "source": [
    "## Dilution/Background Cross Section\n",
    "\n",
    "Define\n",
    "\n",
    "$$\n",
    "\\sigma_d = \\frac{\\Sigma_{s,nr}}{N_r} \\, ,\n",
    "$$\n",
    "\n",
    "which is the \"number of barns of moderator per fuel atom.\"  Then\n",
    "\n",
    "$$\n",
    "\\phi_{\\text{NR}}(E) = \\frac{1}{(\\sigma_{t,r}(E) + \\sigma_d)E} \\quad \\text{and}\\quad \\phi_{\\text{WR}} = \\frac{1}{(\\sigma_{a, r}(E)+\\sigma_d)E} \n",
    "$$\n"
   ]
  },
  {
   "cell_type": "markdown",
   "metadata": {
    "slideshow": {
     "slide_type": "subslide"
    }
   },
   "source": [
    "## In-Class Activity (will become HW)\n",
    "\n",
    " - Get the radiative capture and elastic scattering cross sections for U-238\n",
    " - Get the elastic scattering cross section for H-1\n",
    " - Put them on the same energy mesh for 1 to 50 eV (that's the first three big resonances of U-238)\n",
    "   - Hint: use `np.interp`\n",
    " - For a 100-to-1, H-to-U ratio, compute and plot $\\phi_{NR}(E)$ and $\\phi_{WR}(E)$ assuming $\\phi(50) = 1$, and compare to the \"1 over E\" shape."
   ]
  },
  {
   "cell_type": "code",
   "execution_count": null,
   "metadata": {
    "slideshow": {
     "slide_type": "subslide"
    }
   },
   "outputs": [],
   "source": [
    "import numpy as np"
   ]
  },
  {
   "cell_type": "markdown",
   "metadata": {
    "slideshow": {
     "slide_type": "slide"
    }
   },
   "source": [
    "# Numerical Solution of Slowing Down Equation"
   ]
  },
  {
   "cell_type": "markdown",
   "metadata": {
    "slideshow": {
     "slide_type": "fragment"
    }
   },
   "source": [
    "Discretize $E$ on a grid sufficiently fine that $\\Sigma(E)$ can well approximated by interpolation.  Then \n",
    "$$\n",
    "     \\Sigma_t (E_i) \\phi(E_i) = \n",
    "       \\sum_{j=i}^{N_E} \\Sigma_s (E_j \\to E_i) \\phi(E_j) \\Delta E_j\n",
    "         + S(E_i) \\, ,\n",
    "$$\n",
    "\n",
    "where an external source $S(E)$ has been included for generality,\n",
    "$N_E$ is the number of discrete energy points used, and \n",
    "$\\Delta E_j = E_{j+1} - E_{j}$."
   ]
  },
  {
   "cell_type": "markdown",
   "metadata": {
    "slideshow": {
     "slide_type": "subslide"
    }
   },
   "source": [
    "For \"continuous\" treatment, the matrix implied by \n",
    "$\\Sigma_s (E_j \\to E_i)$ is far too large.  \n",
    "\n",
    "Instead, evaluate its values on-the-fly by defining\n",
    "\n",
    "$$\n",
    "\\Sigma_{s,j\\to i} \\approx \n",
    "        \\left\\{\n",
    "           \\begin{array}{l l}\n",
    "               \\frac{\\Sigma_s(E_j)}{(1-\\alpha)E_j} & \\quad \\alpha E_j \\leq E_i \\leq E_j \\\\\n",
    "               0                                   & \\quad \\text{otherwise} \\, .\n",
    "            \\end{array} \n",
    "        \\right.\n",
    "$$\n",
    "\n",
    "Remember, this approximation is valid only for *isotropic*\n",
    "(i.e., *s-wave*) scattering in the CM system.  Typically, this is the \n",
    "case for all but the highest energies."
   ]
  },
  {
   "cell_type": "markdown",
   "metadata": {
    "slideshow": {
     "slide_type": "subslide"
    }
   },
   "source": [
    "With $\\Sigma_{s, j\\to i}$ defined, we have\n",
    "\n",
    "$$\n",
    "\\Sigma_t (E_i) \\phi(E_i) = \n",
    "       \\sum_{j=i}^{N_E} \\sum^{N_{\\text{nucl}}}_{k=1} \\frac{\\sigma_s (E_j) \\phi(E_j) \\Delta E_j }{(1-\\alpha_k)E_j} \n",
    "         + S(E_i) \\, .\n",
    "\\label{eq:sdediscretized}\n",
    "$$\n",
    "Note that the sum over energy include **all** energies, but, in practice, this is often wasteful.  *Why*?"
   ]
  },
  {
   "cell_type": "markdown",
   "metadata": {
    "slideshow": {
     "slide_type": "fragment"
    }
   },
   "source": [
    "Here, a one-sided *Riemann sum* is used where a \\emph{midpoint} or \\emph{trapezoid} rule could be used instead.  \n",
    "\n",
    "Once could also use $\\bar{E}_j = \\sqrt{E_j E_{j+1}}$ for $E_j$ in the denominator."
   ]
  },
  {
   "cell_type": "markdown",
   "metadata": {
    "slideshow": {
     "slide_type": "subslide"
    }
   },
   "source": [
    "Now, rearrange to get\n",
    "\n",
    "$$\n",
    "\\phi_i =\n",
    "      \\frac{ \n",
    "         \\sum\\limits_{j=i+1}^{N_E} \n",
    "         \\sum\\limits^{N_{\\text{nucl}}}_{k=1} \\frac{\\sigma_s (E_j) \\phi(E_j) \\Delta E_j }{(1-\\alpha_k)E_j} + S_j}\n",
    "          {\\Sigma_{t, i} - \\Sigma_{s, i\\to i}} \\, ,\n",
    "$$\n",
    "where \n",
    "\n",
    "$$\n",
    "  \\phi_N = \\frac{S_N}{\\Sigma_{t,N}-\\Sigma_{s,N\\to N}} \\, .\n",
    "$$\n",
    "\n",
    "Alternatively, neglect any external source and set $\\phi_N$ directly."
   ]
  },
  {
   "cell_type": "markdown",
   "metadata": {},
   "source": [
    "## In-Class Activity (will become HW)\n",
    "\n",
    " - Solve the same 100-to-1 problem by directly solving the slowing-down equation and compare to the NR and WR approximations."
   ]
  },
  {
   "cell_type": "code",
   "execution_count": null,
   "metadata": {},
   "outputs": [],
   "source": [
    "# Starter code that for one nuclide with constant cross sections\n",
    "import numpy as np\n",
    "import matplotlib.pyplot as plt\n",
    "\n",
    "def scatter_probability(E_i, E_j, alpha) :\n",
    "    p = (1.0/E_j/(1.0-alpha)) * 1.0*((E_i >= alpha*E_j))\n",
    "    return p \n",
    "def compute_spectrum(E, Sigma_t, Sigma_s, alpha) :\n",
    "    N_E = len(E)\n",
    "    phi = np.zeros(N_E)\n",
    "    phi[N_E-1] = 1.0\n",
    "    for i in range(N_E-2, -1, -1) :\n",
    "        Q_i = 0.0\n",
    "        for j in range(N_E-1, i, -1) :\n",
    "            dE = E[j] - E[j-1]\n",
    "            E_bar = np.sqrt(E[j]*E[j-1])\n",
    "            Q_i += phi[j] * Sigma_s * scatter_probability(E[i], E[j], alpha) * dE\n",
    "        phi[i] = Q_i / Sigma_t\n",
    "        #print (i, phi[i])\n",
    "    return phi\n",
    "E = np.logspace(-1, 2, 1200)\n",
    "phi = compute_spectrum(E, 1.0, 1, (10-1)**2/(10+1)**2) \n",
    "plt.loglog(E, phi, E, 1/E)"
   ]
  },
  {
   "cell_type": "markdown",
   "metadata": {
    "slideshow": {
     "slide_type": "slide"
    }
   },
   "source": [
    "# A Taste of Doppler Broadening\n",
    "\n",
    "tbd"
   ]
  },
  {
   "cell_type": "code",
   "execution_count": null,
   "metadata": {},
   "outputs": [],
   "source": []
  }
 ],
 "metadata": {
  "celltoolbar": "Slideshow",
  "kernelspec": {
   "display_name": "Python 3",
   "language": "python",
   "name": "python3"
  },
  "language_info": {
   "codemirror_mode": {
    "name": "ipython",
    "version": 3
   },
   "file_extension": ".py",
   "mimetype": "text/x-python",
   "name": "python",
   "nbconvert_exporter": "python",
   "pygments_lexer": "ipython3",
   "version": "3.6.8"
  }
 },
 "nbformat": 4,
 "nbformat_minor": 2
}
