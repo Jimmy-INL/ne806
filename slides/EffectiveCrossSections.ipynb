{
 "cells": [
  {
   "cell_type": "markdown",
   "metadata": {
    "slideshow": {
     "slide_type": "slide"
    }
   },
   "source": [
    "Consider the steady-state transport equation\n",
    "\n",
    "$$\n",
    "\\nabla \\cdot \\Omega \\psi + \\Sigma_t (r, E) \\psi(r, E, \\Omega) = Q(r, E, \\Omega) \\,\n",
    "$$\n",
    "\n",
    "where $Q$ is the emission density and includes scattering, fission, and external sources.\n",
    "\n",
    "Integrate this equation over the range $E \\in [E_g, E_{g-1}]$ to get\n",
    "\n",
    "$$\n",
    "\\int^{E_{g-1}}_{E_{g}}\\nabla \\cdot \\Omega \\psi + \\Sigma_t (r, E) \\psi(r, E, \\Omega)dE = \\int^{E_{g-1}}_{E_{g}} Q(r, E, \\Omega)dE \\, .\n",
    "$$\n",
    "\n",
    "Define $\\psi_g \\equiv \\int^{E_{g-1}}_{E_{g}} \\psi(r, E, \\Omega) dE$\n"
   ]
  },
  {
   "cell_type": "markdown",
   "metadata": {
    "slideshow": {
     "slide_type": "slide"
    }
   },
   "source": [
    "We start with this:\n",
    "\n",
    "$$\n",
    "\\nabla \\cdot \\Omega \\psi_g  + \\int^{E_{g-1}}_{E_{g}} \\Sigma_t(E)\\psi(E) dE = Q_g\n",
    "$$"
   ]
  },
  {
   "cell_type": "markdown",
   "metadata": {
    "slideshow": {
     "slide_type": "fragment"
    }
   },
   "source": [
    "and we want to find the same $\\psi_g$ using this:\n",
    "\n",
    "$$\n",
    "\\nabla \\cdot \\Omega \\psi_g  + \\Sigma_{t,g} \\psi_g = Q_g\n",
    "$$"
   ]
  },
  {
   "cell_type": "markdown",
   "metadata": {
    "slideshow": {
     "slide_type": "slide"
    }
   },
   "source": [
    "Thus, we need to satisfy\n",
    "\n",
    "$$\n",
    "\\Sigma_{t,g} \\psi_g = \\int^{E_{g-1}}_{E_{g}} \\Sigma_t(E)\\psi(E) dE\n",
    "$$"
   ]
  },
  {
   "cell_type": "markdown",
   "metadata": {
    "slideshow": {
     "slide_type": "fragment"
    }
   },
   "source": [
    "This is possible if we let \n",
    "\n",
    "$$\n",
    "\\Sigma_{t,g}(r, \\Omega) = \\boxed{\\frac{\\int^{E_{g-1}}_{E_{g}} \\Sigma_t(r, E)\\psi(r, E, \\Omega) dE}{ \\int^{E_{g-1}}_{E_{g}} \\psi(r, E, \\Omega) dE }}\n",
    " \\neq \\frac{\\int^{E_{g-1}}_{E_{g}} \\Sigma_t(E)  dE}{ \\int^{E_{g-1}}_{E_{g}}  dE }\n",
    "$$"
   ]
  },
  {
   "cell_type": "markdown",
   "metadata": {
    "slideshow": {
     "slide_type": "slide"
    }
   },
   "source": [
    "Ignore space and angle to find\n",
    "\n",
    "$$\n",
    " \\boxed{\\Sigma_{t,g} = \n",
    "\\frac{\\int^{E_{g-1}}_{E_{g}} \\Sigma_t( E)\\psi(E) dE}{ \\int^{E_{g-1}}_{E_{g}} \\psi(E) dE }}\n",
    "$$"
   ]
  },
  {
   "cell_type": "markdown",
   "metadata": {
    "slideshow": {
     "slide_type": "slide"
    }
   },
   "source": [
    "Alternatively, let \n",
    "\n",
    "$$\n",
    "\\Sigma_{t,g} = \\sum_i \\sigma_{t,g,i} N_i \\, .\n",
    "$$\n",
    "\n",
    "Such condensation can be applied to all reaction cross sections, not just the total cross sections."
   ]
  },
  {
   "cell_type": "markdown",
   "metadata": {},
   "source": [
    "The basic approach for *generating* an isotopic library:\n",
    "\n",
    "```\n",
    "for each sigma_0 # background cross section\n",
    "  for each T     # temperature\n",
    "     for each nuclide in [u238, u235, ...]\n",
    "        compute phi(E) using NR, WR, etc.\n",
    "        for each x in [total, capture, elastic scatter]\n",
    "           for each g in [0, 1,. .....]\n",
    "              compute sigma_xg = <sigma_x(E)*phi(E)>_g / <phi(E)>_g\n",
    "\n",
    "```"
   ]
  },
  {
   "cell_type": "markdown",
   "metadata": {},
   "source": [
    "To *use* the library:\n",
    "\n",
    "```\n",
    "   given material composition (i.e., N's) and T\n",
    "   initialize temporary microscopic library for this material\n",
    "   for n in nuclides\n",
    "     for g in groups:\n",
    "        compute sigma_0 assuming that all nuclides != n are non resonators\n",
    "        interpolate cross sections for all reactions for nuclide n as function of sigma_0 and T\n",
    "        (maybe plot the cross sections with sigma_0 and T to know how to interpolate the best)\n",
    "   use N's and microscopic library to compute macroscopic cross sections\n",
    "```"
   ]
  },
  {
   "cell_type": "markdown",
   "metadata": {
    "slideshow": {
     "slide_type": "slide"
    }
   },
   "source": [
    "For HW3, you need to\n",
    "\n",
    "- Complete construction of Reich-Moore fission cross sections\n",
    "- Define a program to produce cross sections in the CASMO-2 and CASMO-16 structures for U-235, U-238, H-1, and O-16 and all reactions given a shape function $\\phi(E)$.\n",
    "- Produce $\\sigma_g$'s for $\\sigma_0 \\in [10^1, 10^2, 10^3, 10^4, 10^5]$ b and $T \\in [0, 300, 600, 900, 1200]$ K.\n",
    "- Plot the 2-group $k_{\\infty}$ for a homogeneous mixture of UO$_2$ (4 w/o U-235) and H$_2$O as a function of $\\sigma_0$ and $T$.  Here, $\\sigma_0$ depends on the amount of H$_2$O.\n",
    "\n"
   ]
  }
 ],
 "metadata": {
  "celltoolbar": "Slideshow",
  "kernelspec": {
   "display_name": "Python 3",
   "language": "python",
   "name": "python3"
  },
  "language_info": {
   "codemirror_mode": {
    "name": "ipython",
    "version": 3
   },
   "file_extension": ".py",
   "mimetype": "text/x-python",
   "name": "python",
   "nbconvert_exporter": "python",
   "pygments_lexer": "ipython3",
   "version": "3.7.3"
  }
 },
 "nbformat": 4,
 "nbformat_minor": 2
}
