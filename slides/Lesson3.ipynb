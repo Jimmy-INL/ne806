{
 "cells": [
  {
   "cell_type": "markdown",
   "metadata": {
    "slideshow": {
     "slide_type": "slide"
    }
   },
   "source": [
    "# ME 806 - Lesson 3\n",
    "\n",
    "Neutron scattering. Legendre polynomials."
   ]
  },
  {
   "cell_type": "markdown",
   "metadata": {
    "slideshow": {
     "slide_type": "subslide"
    }
   },
   "source": [
    "## Objectives\n",
    "\n",
    "  - derive scattering kinematics in laboratory and center-of-mass frames\n",
    "  - combine kinematics with isotropic scattering to define coupled angle/energy transfer function\n",
    "  - express angular dependence using an expansion in the Legendre polynomials\n"
   ]
  },
  {
   "cell_type": "markdown",
   "metadata": {
    "slideshow": {
     "slide_type": "slide"
    }
   },
   "source": [
    "# Scattering in the Laboratory (LAB) Frame"
   ]
  },
  {
   "cell_type": "markdown",
   "metadata": {
    "slideshow": {
     "slide_type": "fragment"
    }
   },
   "source": [
    "Consider neutron ($A=1$) incident on massive target (mass number $A$) as illustrated: \n",
    "\n",
    "<img src=\"lec3_lab_energy.png\" alt=\"drawing\" width=\"400\"/>"
   ]
  },
  {
   "cell_type": "markdown",
   "metadata": {
    "slideshow": {
     "slide_type": "fragment"
    }
   },
   "source": [
    "Conservation of energy says\n",
    "\n",
    "$$\n",
    "  E = E' + E_A\n",
    "$$"
   ]
  },
  {
   "cell_type": "markdown",
   "metadata": {
    "slideshow": {
     "slide_type": "subslide"
    }
   },
   "source": [
    "<img src=\"lec3_lab_momentum.png\" alt=\"drawing\" width=\"200\"/>"
   ]
  },
  {
   "cell_type": "markdown",
   "metadata": {
    "slideshow": {
     "slide_type": "fragment"
    }
   },
   "source": [
    "Conservation of momentum says\n",
    "\n",
    "$$\n",
    "\\begin{split}\n",
    " p = p' \\cos \\theta  + p_A \\cos \\phi \\\\\n",
    " 0 = p' \\sin \\theta  - p_A \\sin \\phi \\, .\n",
    "\\end{split}\n",
    "$$"
   ]
  },
  {
   "cell_type": "markdown",
   "metadata": {
    "slideshow": {
     "slide_type": "subslide"
    }
   },
   "source": [
    "With  the relation $p^2 = 2mE$ and the use of the law of cosines to produce $p_A^2 = (p')^2 + p^2 - 2p'p \\cos \\theta$, one can show\n",
    "\n",
    "$$\n",
    "\\boxed{\n",
    "  E' = \\frac{E}{(A+1)^2} (\\cos \\theta + \\sqrt{A^2 - \\sin^2 \\theta})^2 \\, .\n",
    "}\n",
    "$$"
   ]
  },
  {
   "cell_type": "markdown",
   "metadata": {
    "slideshow": {
     "slide_type": "fragment"
    }
   },
   "source": [
    "What are the *minimum* and *maximum* outgoing energies?"
   ]
  },
  {
   "cell_type": "code",
   "execution_count": 14,
   "metadata": {
    "slideshow": {
     "slide_type": "subslide"
    }
   },
   "outputs": [
    {
     "data": {
      "image/png": "[encoded data removed]",
      "text/plain": [
       "<Figure size 432x288 with 1 Axes>"
      ]
     },
     "metadata": {},
     "output_type": "display_data"
    }
   ],
   "source": [
    "import numpy as np\n",
    "import matplotlib.pyplot as plt\n",
    "A = 2\n",
    "theta = np.linspace(0, np.pi)\n",
    "fraction_of_E = (1/(A+1)**2)*(np.cos(theta)+np.sqrt(A**2-np.sin(theta)**2))**2\n",
    "plt.plot(theta, fraction_of_E)\n",
    "plt.xlabel(r'$\\theta$')\n",
    "plt.ylabel(\"$E'/E$\");"
   ]
  },
  {
   "cell_type": "markdown",
   "metadata": {
    "slideshow": {
     "slide_type": "slide"
    }
   },
   "source": [
    "# Scattering in the Center of Mass (CM) Frame\n",
    "\n",
    "Recap: we have one-to-one correspondence between $E'$ and $\\theta$, but some analysis (and data) lives in the CM frame."
   ]
  },
  {
   "cell_type": "markdown",
   "metadata": {
    "slideshow": {
     "slide_type": "fragment"
    }
   },
   "source": [
    "<img src=\"lec3_com_scatter.png\" alt=\"drawing\" width=\"300\"/>"
   ]
  },
  {
   "cell_type": "markdown",
   "metadata": {
    "slideshow": {
     "slide_type": "subslide"
    }
   },
   "source": [
    "Momentum must be preserved between CM and LAB systems, i.e.,\n",
    "\n",
    "$$\n",
    "  (m + m_A) V_{cm} = mv + m_A V_A\n",
    "$$"
   ]
  },
  {
   "cell_type": "markdown",
   "metadata": {
    "slideshow": {
     "slide_type": "subslide"
    }
   },
   "source": [
    "Assume $V_A = 0$, so that \n",
    "\n",
    "$$\n",
    "   V_{cm} = \\frac{v}{1 + A} \\, ,\n",
    "$$\n",
    "\n",
    "$$\n",
    "    v_c = v - V_{cm} = \\frac{A}{1+A}v \\, ,\n",
    "$$\n",
    "\n",
    "and\n",
    "\n",
    "$$\n",
    " V_c = -V_{cm} = -\\frac{1}{1+A}v \\, .\n",
    "$$"
   ]
  },
  {
   "cell_type": "markdown",
   "metadata": {
    "slideshow": {
     "slide_type": "fragment"
    }
   },
   "source": [
    "Conservation of energy yields $v_c = v_c'$ and $V_c = \\frac{v}{1+A}$."
   ]
  },
  {
   "cell_type": "markdown",
   "metadata": {
    "slideshow": {
     "slide_type": "subslide"
    }
   },
   "source": [
    "<img src=\"lec3_lab_to_com.png\" alt=\"drawing\" width=\"300\"/>"
   ]
  },
  {
   "cell_type": "markdown",
   "metadata": {
    "slideshow": {
     "slide_type": "fragment"
    }
   },
   "source": [
    "Note that\n",
    "\n",
    "$$\n",
    "  v_c' \\sin{\\theta_c} = v' \\sin{\\theta}\n",
    "$$\n",
    "\n",
    "and\n",
    "\n",
    "$$\n",
    " v'_c \\cos \\theta_c + v_{cm} = v' \\cos \\theta \\, .\n",
    "$$"
   ]
  },
  {
   "cell_type": "markdown",
   "metadata": {
    "slideshow": {
     "slide_type": "subslide"
    }
   },
   "source": [
    "It follows that\n",
    "\n",
    "$$\n",
    "  \\boxed{\\cos \\theta = \\frac{  A \\cos \\theta_c + 1 } {\\sqrt{ A^2 + 2 A \\cos \\theta_c +1 }} } \n",
    "$$\n",
    "\n",
    "and\n",
    "\n",
    "$$\n",
    "\\boxed{\\frac{E'}{E} = \\frac{A^2 + 2A \\cos \\theta_c +1 }{(1+A)^2}} \\, .\n",
    "$$"
   ]
  },
  {
   "cell_type": "code",
   "execution_count": 17,
   "metadata": {
    "slideshow": {
     "slide_type": "subslide"
    }
   },
   "outputs": [
    {
     "data": {
      "image/png": "[encoded data removed]",
      "text/plain": [
       "<Figure size 432x288 with 1 Axes>"
      ]
     },
     "metadata": {},
     "output_type": "display_data"
    }
   ],
   "source": [
    "# E'/E vs theta_c\n",
    "A = 1.001\n",
    "theta_c = np.linspace(0, np.pi)\n",
    "fraction_of_E = (A**2 + 2*A*np.cos(theta_c)+1) / (1+A)**2\n",
    "plt.plot(theta_c, fraction_of_E)\n",
    "plt.xlabel(r'$\\theta_c$')\n",
    "plt.ylabel(\"$E'/E$\");"
   ]
  },
  {
   "cell_type": "code",
   "execution_count": 34,
   "metadata": {
    "slideshow": {
     "slide_type": "subslide"
    }
   },
   "outputs": [
    {
     "data": {
      "image/png": "[encoded data removed]",
      "text/plain": [
       "<Figure size 432x288 with 1 Axes>"
      ]
     },
     "metadata": {},
     "output_type": "display_data"
    }
   ],
   "source": [
    "# theta vs theta_c\n",
    "A = 2\n",
    "cos_theta = (A*np.cos(theta_c)+1) / np.sqrt(A**2 + 2*A*np.cos(theta_c)+1)\n",
    "plt.plot(theta_c, np.arccos(cos_theta))\n",
    "plt.xlabel(r'$\\theta_c$')\n",
    "plt.ylabel(r'$\\theta$');"
   ]
  },
  {
   "cell_type": "markdown",
   "metadata": {
    "slideshow": {
     "slide_type": "subslide"
    }
   },
   "source": [
    "# The Double-Differential Cross Section\n",
    "\n",
    "Consider the double-differential scattering cross section\n",
    "\n",
    "$$\n",
    "\\sigma_s(\\hat{\\mathbf{\\Omega}}'\\to\\hat{\\mathbf{\\Omega}}, E'\\to E) \\, .\n",
    "$$"
   ]
  },
  {
   "cell_type": "markdown",
   "metadata": {
    "slideshow": {
     "slide_type": "fragment"
    }
   },
   "source": [
    "Often, scattering depends only on the angle between $\\hat{\\mathbf{\\Omega}}'$ and $\\hat{\\mathbf{\\Omega}}$ (or its cosine), so we can write\n",
    "\n",
    "$$\n",
    " \\sigma_s(\\hat{\\mathbf{\\Omega}}'\\to\\hat{\\mathbf{\\Omega}}, E'\\to E) =  \\frac{1}{2\\pi} \\sigma_s(\\hat{\\mathbf{\\Omega}}'\\cdot \\hat{\\mathbf{\\Omega}}, E'\\to E) =  \\frac{1}{2\\pi} \\sigma_s(\\mu, E'\\to E) \\, , \n",
    "$$\n",
    "\n",
    "where $\\mu = \\hat{\\mathbf{\\Omega}}'\\cdot \\hat{\\mathbf{\\Omega}}$."
   ]
  },
  {
   "cell_type": "markdown",
   "metadata": {
    "slideshow": {
     "slide_type": "subslide"
    }
   },
   "source": [
    "The factor of $2\\pi$ comes from\n",
    "$$\n",
    "\\sigma_s(E'\\to E) \\equiv \\int_{4\\pi}\\sigma_s(\\hat{\\mathbf{\\Omega}}'\\to\\hat{\\mathbf{\\Omega}}, E'\\to E)  d\\Omega'\n",
    "   = \\int^{2\\pi}_0 \\int^{1}_{-1}\\frac{\\sigma_s(\\mu, E'\\to E)}{2\\pi}\n",
    "     d\\mu d\\phi \\, .\n",
    "$$"
   ]
  },
  {
   "cell_type": "markdown",
   "metadata": {
    "slideshow": {
     "slide_type": "subslide"
    }
   },
   "source": [
    "The probability $P(\\theta)$ a neutron scatters through the angle $\\theta$ can be written as (omitting energy)\n",
    "\n",
    "$$\n",
    "  P(\\theta)d\\theta = \\frac{\\sigma_s(\\theta) \\sin\\theta d\\theta}{ \\sigma_s}  \\,  .\n",
    "$$\n"
   ]
  },
  {
   "cell_type": "markdown",
   "metadata": {
    "slideshow": {
     "slide_type": "fragment"
    }
   },
   "source": [
    "The one-to-one correspondence between $\\theta$ and $E$ means\n",
    "\n",
    "$$\n",
    "  P(E')dE' = P(\\theta)d\\theta = \\frac{\\sigma_s(\\theta) \\sin\\theta d\\theta}{\\sigma_s} \\, .\n",
    "$$"
   ]
  },
  {
   "cell_type": "markdown",
   "metadata": {
    "slideshow": {
     "slide_type": "subslide"
    }
   },
   "source": [
    "For scattering that is *isotropic in the CM system*, there is no dependence on angle, and, hence\n",
    "\n",
    "$$\n",
    "  P(E')dE' = \\frac{1}{2} \\sin\\theta d\\theta = \\frac{1}{2} d|\\mu| \\, .\n",
    "$$"
   ]
  },
  {
   "cell_type": "markdown",
   "metadata": {
    "slideshow": {
     "slide_type": "fragment"
    }
   },
   "source": [
    "It follows that\n",
    "\n",
    "$$\n",
    " P(E\\to E') =\n",
    "        \\left\\{\n",
    "           \\begin{array}{l l}\n",
    "               \\frac{1}{E(1-\\alpha)} & \\quad \\alpha E \\leq E' \\leq E \\\\\n",
    "               0                     & \\quad \\text{otherwise} \\, ,\n",
    "            \\end{array} \n",
    "        \\right.\n",
    "$$\n",
    "\n",
    "where $\\alpha = (A-1)^2 / (A+1)^2$."
   ]
  },
  {
   "cell_type": "markdown",
   "metadata": {
    "slideshow": {
     "slide_type": "slide"
    }
   },
   "source": [
    "## Legendre Approximations"
   ]
  },
  {
   "cell_type": "markdown",
   "metadata": {
    "slideshow": {
     "slide_type": "fragment"
    }
   },
   "source": [
    "Consider a function $f(\\mu)$ defined for $\\mu \\in [-1, 1]$.  Then\n",
    "\n",
    "$$\n",
    "    f(\\mu) = \\sum^{\\infty}_{l=0} a_l P_l(\\mu) \\, ,\n",
    "$$\n",
    "\n",
    "where\n",
    "\n",
    "$$\n",
    "  a_n = \\frac{2m+1}{2} \\int^{1}_{-1} P_l(\\mu) f(\\mu) d\\mu \\, .\n",
    "$$"
   ]
  },
  {
   "cell_type": "markdown",
   "metadata": {
    "slideshow": {
     "slide_type": "subslide"
    }
   },
   "source": [
    "The first several Legendre polynomials are\n",
    "\n",
    "$$\n",
    "\\begin{split}\n",
    "  P_0(\\mu)  &= 1 \\\\\n",
    "  P_1(\\mu)  &= \\mu \\\\\n",
    "  P_2(\\mu)  &= \\frac{1}{2}(3\\mu^2 -1) \\\\\n",
    "  P_3(\\mu)  &=  \\frac{1}{2}(5\\mu^3 -3x) \\\\\n",
    "\\end{split}\n",
    "$$"
   ]
  },
  {
   "cell_type": "markdown",
   "metadata": {
    "slideshow": {
     "slide_type": "subslide"
    }
   },
   "source": [
    "The LPs are orthogonal; specifically\n",
    "\n",
    "$$\n",
    "\\int^{1}_{-1} P_l(\\mu)P_m(\\mu) =\n",
    "        \\left\\{\n",
    "           \\begin{array}{l l}\n",
    "              \\frac{2}{2l+1} & \\quad l = m \\\\\n",
    "               0                     & \\quad \\text{otherwise} \\, ,\n",
    "            \\end{array} \n",
    "        \\right.\n",
    "$$"
   ]
  },
  {
   "cell_type": "code",
   "execution_count": 50,
   "metadata": {
    "slideshow": {
     "slide_type": "subslide"
    }
   },
   "outputs": [
    {
     "data": {
      "text/plain": [
       "<matplotlib.legend.Legend at 0x7fef9883bf28>"
      ]
     },
     "execution_count": 50,
     "metadata": {},
     "output_type": "execute_result"
    },
    {
     "data": {
      "image/png": "[encoded data removed]",
      "text/plain": [
       "<Figure size 432x288 with 1 Axes>"
      ]
     },
     "metadata": {},
     "output_type": "display_data"
    }
   ],
   "source": [
    "P0 = lambda x: x**0\n",
    "P1 = lambda x: x\n",
    "P2 = lambda x: 0.5*(3*x**2 - 1)\n",
    "P3 = lambda x: 0.5*(5*x**3 - 3*x)\n",
    "\n",
    "x_plot = np.linspace(-1, 1, 100)\n",
    "plt.plot(x_plot, P0(x_plot), \n",
    "         x_plot, P1(x_plot),\n",
    "         x_plot, P2(x_plot),\n",
    "         x_plot, P3(x_plot));\n",
    "plt.xlabel('$\\mu$')\n",
    "plt.legend(['P_0', 'P_1', 'P_2', 'P_3'])"
   ]
  },
  {
   "cell_type": "code",
   "execution_count": 51,
   "metadata": {
    "slideshow": {
     "slide_type": "subslide"
    }
   },
   "outputs": [],
   "source": [
    "from scipy.integrate import quad\n",
    "# demonstrate orthogonality"
   ]
  },
  {
   "cell_type": "code",
   "execution_count": 52,
   "metadata": {
    "slideshow": {
     "slide_type": "subslide"
    }
   },
   "outputs": [],
   "source": [
    "# demonstrate expansion of P(mu) "
   ]
  },
  {
   "cell_type": "markdown",
   "metadata": {
    "slideshow": {
     "slide_type": "slide"
    }
   },
   "source": [
    "# Exercises\n",
    "\n",
    "## Exercise 1\n",
    "\n",
    "Prove the following\n",
    "\n",
    "  - $\\cos(\\theta) = \\frac{A \\cos(\\theta_c) + 1}{\\sqrt{A^2 +2A\\cos(\\theta_c) +1}}$\n",
    "  - $E'/E = \\frac{1+\\alpha + (1-\\alpha)\\cos(\\theta_c)}{2}$\n",
    "  - For isotropic scattering in CM, the average of the cosing of the LAB scattering angle is defined by $\\bar{\\mu} = \\frac{2}{3A}$.\n",
    "  \n",
    "## Exercise 2\n",
    "\n",
    "Assume elastic scattering of neutrons off hydrogen is isotropic in the CM system.  Derive $P(\\theta)$ for LAB frame.  Then, compute the zeroth, first, second, and third Legendre representations of $P(\\theta)$.  Plot the $P(\\theta)$ and these four approximations together on one graph."
   ]
  }
 ],
 "metadata": {
  "celltoolbar": "Slideshow",
  "kernelspec": {
   "display_name": "Python 3",
   "language": "python",
   "name": "python3"
  },
  "language_info": {
   "codemirror_mode": {
    "name": "ipython",
    "version": 3
   },
   "file_extension": ".py",
   "mimetype": "text/x-python",
   "name": "python",
   "nbconvert_exporter": "python",
   "pygments_lexer": "ipython3",
   "version": "3.6.8"
  }
 },
 "nbformat": 4,
 "nbformat_minor": 2
}
