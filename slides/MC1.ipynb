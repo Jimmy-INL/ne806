{
 "cells": [
  {
   "cell_type": "code",
   "execution_count": 1,
   "metadata": {},
   "outputs": [],
   "source": [
    "import numpy as np\n",
    "import matplotlib.pyplot as plt\n",
    "np.random.seed(1234)"
   ]
  },
  {
   "cell_type": "markdown",
   "metadata": {},
   "source": [
    "$$\n",
    "I = \\int^1_0 \\cos(x) dx = \\sin(1)-\\sin(0) = \\sin(1) \\approx 0.84147\n",
    "$$"
   ]
  },
  {
   "cell_type": "code",
   "execution_count": 4,
   "metadata": {},
   "outputs": [
    {
     "data": {
      "text/plain": [
       "0.8437855356861963"
      ]
     },
     "execution_count": 4,
     "metadata": {},
     "output_type": "execute_result"
    }
   ],
   "source": [
    "x = np.linspace(0, 1, 100)\n",
    "f = np.cos(x)\n",
    "I_rs = np.sum(f[:-1]*(x[1]-x[0]))\n",
    "I_rs"
   ]
  },
  {
   "cell_type": "code",
   "execution_count": 6,
   "metadata": {},
   "outputs": [
    {
     "data": {
      "text/plain": [
       "0.8414638301602776"
      ]
     },
     "execution_count": 6,
     "metadata": {},
     "output_type": "execute_result"
    }
   ],
   "source": [
    "np.trapz(f, x)"
   ]
  },
  {
   "cell_type": "code",
   "execution_count": 24,
   "metadata": {},
   "outputs": [
    {
     "data": {
      "text/plain": [
       "(array([ 2.,  1.,  5.,  5.,  8., 10., 14., 25., 39., 33., 46., 55., 78.,\n",
       "        85., 79., 77., 74., 56., 68., 50., 46., 37., 26., 22., 26.,  9.,\n",
       "        10.,  6.,  6.,  2.]),\n",
       " array([0.83725558, 0.83752758, 0.83779957, 0.83807156, 0.83834355,\n",
       "        0.83861554, 0.83888754, 0.83915953, 0.83943152, 0.83970351,\n",
       "        0.8399755 , 0.84024749, 0.84051949, 0.84079148, 0.84106347,\n",
       "        0.84133546, 0.84160745, 0.84187945, 0.84215144, 0.84242343,\n",
       "        0.84269542, 0.84296741, 0.84323941, 0.8435114 , 0.84378339,\n",
       "        0.84405538, 0.84432737, 0.84459936, 0.84487136, 0.84514335,\n",
       "        0.84541534]),\n",
       " <a list of 30 Patch objects>)"
      ]
     },
     "execution_count": 24,
     "metadata": {},
     "output_type": "execute_result"
    },
    {
     "data": {
      "image/png": "[encoded data removed]",
      "text/plain": [
       "<Figure size 432x288 with 1 Axes>"
      ]
     },
     "metadata": {
      "needs_background": "light"
     },
     "output_type": "display_data"
    }
   ],
   "source": [
    "I_mc = []\n",
    "for i in range(1000):\n",
    "    n = 10000 # number of samples\n",
    "    x_mc = np.random.rand(n)\n",
    "    f_mc = np.cos(x_mc)\n",
    "    I_mc.append(sum(f_mc)/n)\n",
    "plt.hist(I_mc, 30)"
   ]
  },
  {
   "cell_type": "markdown",
   "metadata": {},
   "source": [
    "$$\n",
    "I_{mc} = \\int^{1}_0 f(x) g(x) dx = E[g]\n",
    "$$\n",
    "\n",
    "where $f(x)$ is a probability density over $[0, 1]$.   Say, $f(x) = 1$ (the uniform density) and $g(x) = \\cos(x)$."
   ]
  },
  {
   "cell_type": "code",
   "execution_count": null,
   "metadata": {},
   "outputs": [],
   "source": []
  }
 ],
 "metadata": {
  "kernelspec": {
   "display_name": "Python 3",
   "language": "python",
   "name": "python3"
  },
  "language_info": {
   "codemirror_mode": {
    "name": "ipython",
    "version": 3
   },
   "file_extension": ".py",
   "mimetype": "text/x-python",
   "name": "python",
   "nbconvert_exporter": "python",
   "pygments_lexer": "ipython3",
   "version": "3.7.3"
  }
 },
 "nbformat": 4,
 "nbformat_minor": 2
}
