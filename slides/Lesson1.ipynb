{
 "cells": [
  {
   "cell_type": "markdown",
   "metadata": {
    "slideshow": {
     "slide_type": "slide"
    }
   },
   "source": [
    "# NE 806 - Lesson 1\n"
   ]
  },
  {
   "cell_type": "markdown",
   "metadata": {
    "slideshow": {
     "slide_type": "subslide"
    }
   },
   "source": [
    "## Objectives\n",
    "\n",
    "- Students will understand the course policies\n",
    "- Students will review basics of nuclear reactions "
   ]
  },
  {
   "cell_type": "markdown",
   "metadata": {
    "slideshow": {
     "slide_type": "subslide"
    }
   },
   "source": [
    "## Readings\n",
    "\n",
    "- DH 10-70\n",
    "- (Lamarsh 1--74)"
   ]
  },
  {
   "cell_type": "markdown",
   "metadata": {},
   "source": [
    "![alt text](xsec.png \"Cross sections of interest\")"
   ]
  },
  {
   "cell_type": "markdown",
   "metadata": {},
   "source": [
    "![alt text](ratios.png \"Logo Title Text 1\")"
   ]
  },
  {
   "cell_type": "markdown",
   "metadata": {
    "slideshow": {
     "slide_type": "subslide"
    }
   },
   "source": [
    "![alt text](ratios_with_escape.png \"Neutron life\")"
   ]
  },
  {
   "cell_type": "markdown",
   "metadata": {
    "slideshow": {
     "slide_type": "subslide"
    }
   },
   "source": [
    "![alt text](escape_moderator.png \"Neutron life\")"
   ]
  },
  {
   "cell_type": "markdown",
   "metadata": {
    "slideshow": {
     "slide_type": "slide"
    }
   },
   "source": [
    "## Neutron Cross Sections\n",
    "\n",
    "$$\n",
    "  \\Sigma_x = N \\sigma_x \n",
    "$$\n",
    "\n",
    "where $\\sigma_x$ has units of area, $N$ has units of atoms per volume, and $\\Sigma_x$ has units of inverse length."
   ]
  },
  {
   "cell_type": "markdown",
   "metadata": {
    "slideshow": {
     "slide_type": "slide"
    }
   },
   "source": [
    "## Breit-Wigner\n",
    "\n",
    "Resonance capture cross section:\n",
    "\n",
    "$$\n",
    "  \\sigma_{\\gamma}(E) = \\sigma_0 \\frac{\\Gamma_{\\gamma}}{\\Gamma} \\left (\\frac{E_0}{E} \\right )^{1/2} \\frac{1}{1+y^2} \\, ,\n",
    "$$\n",
    "\n",
    "where $y = \\frac{2}{\\gamma} (E-E_0)$, $\\sigma_0 = 2 \\lambda \\frac{\\Gamma_n}{\\Gamma} g$, and $g = (2J+1)/(2(2I+1))$."
   ]
  },
  {
   "cell_type": "markdown",
   "metadata": {
    "slideshow": {
     "slide_type": "subslide"
    }
   },
   "source": [
    "### Selected Resonance Parameters of U-238\n",
    "\n",
    "(From BNL.  Use Sigma and click on resonance parameters link.)\n",
    "\n",
    "```\n",
    "           E          J         GN         GG        GFA        GFB\n",
    "  ---------- ---------- ---------- ---------- ---------- ----------\n",
    "  6.673491+0 5.000000-1 1.475792-3 2.300000-2 0.000000+0 9.990000-9\n",
    "  2.087152+1 5.000000-1 1.009376-2 2.286379-2 5.420000-8 0.000000+0\n",
    "  3.668212+1 5.000000-1 3.354568-2 2.300225-2 0.000000+0 9.770000-9\n",
    "```\n",
    "\n",
    "Where $E$ is resonance energy (eV), $J$ is statistical spin factor"
   ]
  },
  {
   "cell_type": "code",
   "execution_count": null,
   "metadata": {
    "slideshow": {
     "slide_type": "subslide"
    }
   },
   "outputs": [],
   "source": [
    "import numpy as np\n",
    "import matplotlib.pyplot as plt\n",
    "\n",
    "# potential cross section (in barns)\n",
    "sigma_p = 11.2934\n",
    "I = 0 # s wave\n",
    "E0, J, GN, GG, _, _ = np.loadtxt('u238.txt', unpack=True)\n",
    "G = GN+GG\n",
    "A = 238.0\n",
    "E = np.logspace(-1, 3, 10000)\n",
    "sigma_g = np.zeros_like(E)\n",
    "sigma_n = np.zeros_like(E)\n",
    "sigma_n[:] = sigma_p\n",
    "\n",
    "for i in range(len(E0)):\n",
    "    # statistical spin factor, where I=nuclear spint, J=total spin\n",
    "    g = (2*J[i]+1)/(2*(2*I+1))\n",
    "    \n",
    "    # total cross section at resonance energy (DH 2-36)\n",
    "    sigma_0 = 2.608e6 * (A+1)**2/(A**2 * E0[i]) * (GN[i]/G[i]) * g\n",
    "     \n",
    "    # capture cross section (DH 2-35)\n",
    "    y = (2/G[i])*(E - E0[i])\n",
    "    sigma_g += sigma_0 * (GN[i]/G[i]) * np.sqrt(E0[i]/E) * (1/(1+y**2))"
   ]
  },
  {
   "cell_type": "code",
   "execution_count": null,
   "metadata": {
    "slideshow": {
     "slide_type": "subslide"
    }
   },
   "outputs": [],
   "source": [
    "plt.loglog(E, sigma_g) \n",
    "plt.show()"
   ]
  },
  {
   "cell_type": "markdown",
   "metadata": {
    "slideshow": {
     "slide_type": "subslide"
    }
   },
   "source": [
    "## Exercise 1\n",
    "\n",
    " - Add the computation of `sigma_n` (for elastic scattering) and add it to `sigma_p` to form `sigma_e`, the total elastic scattering cross section.\n",
    " - Plot `sigma_g` (as computed above) together with `sigma_e` and the corresponding values extracted directly from BNL's Sigma plot (when you plot a cross section, you can view the actual as-plotted values as a text file).\n",
    " "
   ]
  }
 ],
 "metadata": {
  "celltoolbar": "Slideshow",
  "kernelspec": {
   "display_name": "Python 3",
   "language": "python",
   "name": "python3"
  },
  "language_info": {
   "codemirror_mode": {
    "name": "ipython",
    "version": 3
   },
   "file_extension": ".py",
   "mimetype": "text/x-python",
   "name": "python",
   "nbconvert_exporter": "python",
   "pygments_lexer": "ipython3",
   "version": "3.6.8"
  }
 },
 "nbformat": 4,
 "nbformat_minor": 2
}
