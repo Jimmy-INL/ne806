{
 "cells": [
  {
   "cell_type": "markdown",
   "metadata": {
    "slideshow": {
     "slide_type": "slide"
    }
   },
   "source": [
    "# Monte Carlo and the $k$-Eigenvalue \n"
   ]
  },
  {
   "cell_type": "markdown",
   "metadata": {},
   "source": [
    "## The Method of Successive Generations\n",
    "\n",
    "The basic idea is simple.  \n",
    "  \n",
    "  1. Start with 1000 source neutrons\n",
    "  2. Transport each neutron until it dies or exits the system.  If it induces fission, record the location of that fission.  Each site should be recorded 2 or 3 times ($\\bar{\\nu}\\approx 2.5$).\n",
    "  3. Restart the process using 1000 sites from those recorded.  The ratio of the number of sites recorded to the number started with is a single-generation estimate for $k$.\n",
    "  \n",
    "What about tallies?"
   ]
  },
  {
   "cell_type": "markdown",
   "metadata": {
    "slideshow": {
     "slide_type": "subslide"
    }
   },
   "source": [
    "## Homework 3\n",
    "\n",
    "### Problem 1 - RANDU \n",
    "\n",
    "RANDU is an infamous multiplicative linear congruential pseudorandom number generator which\n",
    "has been used since the 1960’s with parameters: $g = 65539$, $m = 31$, $c = 0$.\n",
    "  \n",
    "  - Implement this LCG, and use this to plot a 1-D, 2-D and 3-D distribution of many randomly selected points using an initial seed of 1. A 2-D point, as an example, is formed by a pair of consecutive random numbers.  Discuss your findings.\n",
    "  - Find at least one historical reference in the literature for RANDU and report on what you learn.\n",
    "  \n",
    "### Problem 2 - The Slab\n",
    "\n",
    "Consider a slab of width 10 cm.  Solve the time-independent, monoenergetic, transport equation for this slab assuming it consists of a purely absorbing medium having an absorption cross section $\\Sigma_a$ 1/cm.  Assume further that the slab is filled with an isotropic source $s(x, \\mu) = \\frac{s}{2}$ for $x\\in [0, W/2]$ (with no source in the other half).  Determine the average value of $\\phi$ in each of 10, evenly-spaced regions (i.e., divide the geometry into 10, 1-cm cells and tally the flux in each).  Use any flux estimator you want, but include uncertainties.\n",
    "\n",
    "### Problem 3 - The  Slab Reactor\n",
    "\n",
    "Again, assume a 10 cm, homogeneous slab with $\\Sigma_t = 1.2$, $\\Sigma_s = 0.6$, and $\\nu\\Sigma_f = 0.7$.  Determine the $k$ eigenvalue of this reactor and compare to what you might expect using NE 630-level diffusion theory.\n",
    "\n",
    "In addition, use any flux estimator you wish to compute the critical flux in each of 10, 1-cm regions (like in problem 2)."
   ]
  },
  {
   "cell_type": "code",
   "execution_count": null,
   "metadata": {},
   "outputs": [],
   "source": []
  }
 ],
 "metadata": {
  "celltoolbar": "Slideshow",
  "kernelspec": {
   "display_name": "Python 3",
   "language": "python",
   "name": "python3"
  },
  "language_info": {
   "codemirror_mode": {
    "name": "ipython",
    "version": 3
   },
   "file_extension": ".py",
   "mimetype": "text/x-python",
   "name": "python",
   "nbconvert_exporter": "python",
   "pygments_lexer": "ipython3",
   "version": "3.7.3"
  }
 },
 "nbformat": 4,
 "nbformat_minor": 2
}
