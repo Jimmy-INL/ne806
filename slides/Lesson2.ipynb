{
 "cells": [
  {
   "cell_type": "markdown",
   "metadata": {
    "slideshow": {
     "slide_type": "slide"
    }
   },
   "source": [
    "# ME 806 - Lesson 2\n",
    "\n",
    "The temporal-space-angle-energy phase space. The neutron transport equation. First-order forms."
   ]
  },
  {
   "cell_type": "markdown",
   "metadata": {
    "slideshow": {
     "slide_type": "subslide"
    }
   },
   "source": [
    "## Objectives\n",
    "\n",
    "  - describe particle populations using different space-angle-energy quantities\n",
    "  - derive the transport equation from basic particle conservation considerations\n",
    "  - express the transport equation in standard coordinate systems\n"
   ]
  },
  {
   "cell_type": "markdown",
   "metadata": {
    "slideshow": {
     "slide_type": "subslide"
    }
   },
   "source": [
    "## Readings\n",
    "\n",
    "  - DH 103-118\n",
    "  - BG 1--21, 35--37"
   ]
  },
  {
   "cell_type": "markdown",
   "metadata": {
    "slideshow": {
     "slide_type": "slide"
    }
   },
   "source": [
    "## Particle Transport Theory\n",
    "\n",
    "**Transport theory** aims to describe the movement of particles as they traverse a medium in an *average* sense; in other words, transport theory (and the solution of the transport equation) aims to define the *distribution* of particles, or the *density* of particles $n(\\mathbf{r}, \\mathbf{v}, t)$ such that the quantity\n",
    "\n",
    "$$\n",
    "\\boxed{\n",
    "  n(\\mathbf{r}, \\mathbf{v}, t) d^3 r d^3 v\n",
    "}\n",
    "$$\n",
    "\n",
    "is the expected number of particles in $d^3 r$ about position $\\mathbf{r}$ with velocities in $d^3 v$ about velocity $\\mathbf{v}$ at time $t$."
   ]
  },
  {
   "cell_type": "markdown",
   "metadata": {
    "slideshow": {
     "slide_type": "subslide"
    }
   },
   "source": [
    "Define \n",
    "\n",
    "$$\n",
    "  E = \\frac{1}{2} mv^2  \\qquad \\text{and} \\qquad \\hat{\\mathbf{\\Omega}} = \\frac{\\mathbf{v}}{||\\mathbf{v}||} \\, .\n",
    "$$"
   ]
  },
  {
   "cell_type": "markdown",
   "metadata": {
    "slideshow": {
     "slide_type": "fragment"
    }
   },
   "source": [
    "Then \n",
    "\n",
    "$$\n",
    "\\boxed{\n",
    "  n(\\mathbf{r}, \\hat{\\mathbf{\\Omega}}, E, t) dV d\\Omega dE\n",
    "}\n",
    "$$\n",
    "\n",
    "is the expected number of particles in $dV$ about position $\\mathbf{r}$ moving in direction $\\hat{\\Omega}$ within solid angle $d\\Omega$ having energy within $dE$ about $E$ at time $t$."
   ]
  },
  {
   "cell_type": "markdown",
   "metadata": {
    "slideshow": {
     "slide_type": "fragment"
    }
   },
   "source": [
    "What *units* must $ n(\\mathbf{r}, \\hat{\\mathbf{\\Omega}}, E, t)$ have?"
   ]
  },
  {
   "cell_type": "markdown",
   "metadata": {
    "slideshow": {
     "slide_type": "slide"
    }
   },
   "source": [
    "## The Phase Space\n",
    "\n",
    "```board work...differential solid angle, differential volumes, etc.```"
   ]
  },
  {
   "cell_type": "markdown",
   "metadata": {
    "slideshow": {
     "slide_type": "slide"
    }
   },
   "source": [
    "## Fundamental Quantities"
   ]
  },
  {
   "cell_type": "markdown",
   "metadata": {
    "slideshow": {
     "slide_type": "fragment"
    }
   },
   "source": [
    "The **angular flux**: $\\boxed{\\psi(\\mathbf{r}, \\hat{\\mathbf{\\Omega}}, E, t) = v n(\\mathbf{r}, \\hat{\\mathbf{\\Omega}}, E, t)}$"
   ]
  },
  {
   "cell_type": "markdown",
   "metadata": {
    "slideshow": {
     "slide_type": "fragment"
    }
   },
   "source": [
    "The **angular current**: $\\boxed{\\mathbf{j}(\\mathbf{r}, \\hat{\\mathbf{\\Omega}}, E, t) = \\mathbf{v} n(\\mathbf{r}, \\hat{\\mathbf{\\Omega}}, E, t) = \\hat{\\mathbf{\\Omega}} \\psi(\\mathbf{r}, \\hat{\\mathbf{\\Omega}}, E, t)}$"
   ]
  },
  {
   "cell_type": "markdown",
   "metadata": {
    "slideshow": {
     "slide_type": "fragment"
    }
   },
   "source": [
    "The **scalar flux**: $\\boxed{\\phi(\\mathbf{r}, E, t) = \\int_{4\\pi} \\psi(\\mathbf{r}, \\hat{\\mathbf{\\Omega}}, E, t) d\\Omega}$"
   ]
  },
  {
   "cell_type": "markdown",
   "metadata": {
    "slideshow": {
     "slide_type": "fragment"
    }
   },
   "source": [
    "The **current**: \n",
    "   $\\boxed{\\mathbf{J}(\\mathbf{r}, E, t) = \\int_{4\\pi} \\hat{\\mathbf{\\Omega}}\\psi(\\mathbf{r}, \\hat{\\mathbf{\\Omega}}, E, t) d\\Omega}$"
   ]
  },
  {
   "cell_type": "markdown",
   "metadata": {
    "slideshow": {
     "slide_type": "fragment"
    }
   },
   "source": [
    "What are the units?  Also, be careful about notation.  This notation is consistent with the current literature and differs somewhat from DH and BG.  I recommend making an equivalence table!"
   ]
  },
  {
   "cell_type": "markdown",
   "metadata": {
    "slideshow": {
     "slide_type": "slide"
    }
   },
   "source": [
    "## Net Flows Through Surfaces\n",
    "\n",
    "Consider some differential surface $d\\mathbf{S} = \\hat{\\mathbf{n}}_S \\, dS$ (where $\\hat{\\mathbf{n}}$ is the outward surface normal).  "
   ]
  },
  {
   "cell_type": "markdown",
   "metadata": {
    "slideshow": {
     "slide_type": "fragment"
    }
   },
   "source": [
    "Then the quantity\n",
    "\n",
    "$$\n",
    "  \\hat{\\mathbf{n}}_S \\, dS \\cdot  \\mathbf{j}(\\mathbf{r}, \\hat{\\mathbf{\\Omega}}, E, t)  d\\Omega\n",
    "$$\n",
    "\n",
    "is the expected number of particles that cross $dS$ per second with directions within $d\\Omega$ about $\\hat{\\mathbf{\\Omega}}$ per unit energy and time.  "
   ]
  },
  {
   "cell_type": "markdown",
   "metadata": {
    "slideshow": {
     "slide_type": "subslide"
    }
   },
   "source": [
    "Integration over all angles yields $\\hat{\\mathbf{n}}_S \\, dS \\cdot \\mathbf{J}(\\mathbf{r}, E, t)$,  which is the net number of particles per unit energy per time flowing through the differential surface."
   ]
  },
  {
   "cell_type": "markdown",
   "metadata": {
    "slideshow": {
     "slide_type": "fragment"
    }
   },
   "source": [
    "Also useful:\n",
    "\n",
    "$$\n",
    "  J_{\\pm}(\\mathbf{r}, E, t) = \\int_{\\hat{\\mathbf{\\Omega}} \\cdot \\hat{\\mathbf{n}}_s \\gtrless 0} \\hat{\\mathbf{n}}_s \\cdot \\mathbf{j}  (\\mathbf{r}, \\hat{\\mathbf{\\Omega}}, E, t)  d\\Omega\n",
    "$$\n",
    "\n",
    "known as the outward (inward) partial current."
   ]
  },
  {
   "cell_type": "markdown",
   "metadata": {
    "slideshow": {
     "slide_type": "slide"
    }
   },
   "source": [
    "## The Transport Equation\n",
    "\n",
    "We seek the time rate of change of particles in some arbitrary (but convex) volume $V$ enclosed by surface $S$, i.e., \n",
    "\n",
    "$$\n",
    "  \\frac{\\partial}{\\partial t} \\int_{V} n(\\mathbf{r}, \\hat{\\mathbf{\\Omega}}, E, t) dV = \\text{gains} - \\text{losses}\\, .\n",
    "$$"
   ]
  },
  {
   "cell_type": "markdown",
   "metadata": {
    "slideshow": {
     "slide_type": "fragment"
    }
   },
   "source": [
    "Losses from particles leaving (\"streaming\"):\n",
    "  \n",
    "$$\n",
    "   - \\int_S d\\mathbf{S} \\cdot \\mathbf{j}  (\\mathbf{r}, \\hat{\\mathbf{\\Omega}}, E, t)\n",
    "$$"
   ]
  },
  {
   "cell_type": "markdown",
   "metadata": {
    "slideshow": {
     "slide_type": "subslide"
    }
   },
   "source": [
    "Gains from sources:\n",
    "\n",
    "$$\n",
    " + \\int_V \\mathbf{s}  (\\mathbf{r}, \\hat{\\mathbf{\\Omega}}, E, t) dV \n",
    "$$"
   ]
  },
  {
   "cell_type": "markdown",
   "metadata": {
    "slideshow": {
     "slide_type": "fragment"
    }
   },
   "source": [
    "Gains (or losses) from interactions:\n",
    "\n",
    "$$\n",
    "   + \\int_V  \\left( \\frac{\\partial n}{\\partial t} \\right )_{\\text{int}} dV \\, \n",
    "$$"
   ]
  },
  {
   "cell_type": "markdown",
   "metadata": {
    "slideshow": {
     "slide_type": "subslide"
    }
   },
   "source": [
    "Together, these yield\n",
    "\n",
    "$$\n",
    "  \\frac{\\partial}{\\partial t} \\int_{V} \\overbrace{n(\\mathbf{r}, \\hat{\\mathbf{\\Omega}}, E, t)}^{\\psi/v} dV\n",
    "   = - \\int_S d\\mathbf{S} \\cdot \\overbrace{\\mathbf{j}  (\\mathbf{r}, \\hat{\\mathbf{\\Omega}}, E, t)}^{\\hat{\\mathbf{\\Omega}}\\psi}\n",
    "     + \\int_V \\mathbf{s}  (\\mathbf{r}, \\hat{\\mathbf{\\Omega}}, E, t) dV \n",
    "      + \\int_V  \\left( \\frac{\\partial n}{\\partial t} \\right )_{\\text{int}} dV \\, .\n",
    "$$"
   ]
  },
  {
   "cell_type": "markdown",
   "metadata": {
    "slideshow": {
     "slide_type": "fragment"
    }
   },
   "source": [
    "From vector calculus, and because $\\mathbf{r}$ and $\\mathbf{\\Omega}$ are independent, $\\int_S d\\mathbf{S}\\cdot \\hat{\\mathbf{\\Omega}}\\psi =  \\int_V  dV \\nabla \\cdot \\hat{\\mathbf{\\Omega}}\\psi =  \\int_V  dV \\hat{\\mathbf{\\Omega}} \\cdot \\nabla \\psi$."
   ]
  },
  {
   "cell_type": "markdown",
   "metadata": {
    "slideshow": {
     "slide_type": "subslide"
    }
   },
   "source": [
    "Finally, $V$ is arbitrary, so\n",
    "\n",
    "$$\n",
    "  \\boxed{\\frac{1}{v} \\frac{\\partial \\psi }{\\partial t} \n",
    "   = \\hat{\\mathbf{\\Omega}} \\cdot \\nabla \\psi (\\mathbf{r}, \\hat{\\mathbf{\\Omega}}, E, t)\n",
    "      + \\left( \\frac{\\partial n}{\\partial t} \\right )_{\\text{int}} \n",
    "      + \\mathbf{s}  (\\mathbf{r}, \\hat{\\mathbf{\\Omega}}, E, t) \\, .}\n",
    "$$"
   ]
  },
  {
   "cell_type": "markdown",
   "metadata": {
    "slideshow": {
     "slide_type": "slide"
    }
   },
   "source": [
    "## What About That Interaction Term?"
   ]
  },
  {
   "cell_type": "markdown",
   "metadata": {
    "slideshow": {
     "slide_type": "fragment"
    }
   },
   "source": [
    "Particles are removed (or added) to the phase-space volume $d\\Omega dE$ about $(\\hat{\\mathbf{\\Omega}}, E)$ through reactions that can be quantified via one or more interaction rates of the form $R_x(\\mathbf{r}, \\hat{\\mathbf{\\Omega}}, E, t)$, where $x$ denotes a particular interaction.  For example,"
   ]
  },
  {
   "cell_type": "markdown",
   "metadata": {
    "slideshow": {
     "slide_type": "fragment"
    }
   },
   "source": [
    "  - Total number lost from $dVd\\Omega dE$ per unit time: \n",
    "     $$\\Sigma_t(\\mathbf{r}, E, t) \\psi(\\mathbf{r}, \\hat{\\mathbf{\\Omega}}, E, t) dVd\\Omega dE$$\n",
    "    Here, $\\Sigma_t = \\Sigma_a + \\Sigma_s + \\ldots$.\n",
    "     - units?"
   ]
  },
  {
   "cell_type": "markdown",
   "metadata": {
    "slideshow": {
     "slide_type": "subslide"
    }
   },
   "source": [
    "  - Total gained by scattering from all possible $(\\hat{\\mathbf{\\Omega}}', E')$ into $(\\hat{\\mathbf{\\Omega}}, E)$:\n",
    "    \n",
    "      $$\n",
    "        \\int_{4\\pi} \\int^{\\infty}_0 d\\Omega' dE' \\Sigma_s(\\mathbf{r}, \\hat{\\mathbf{\\Omega}}' \\to \\hat{\\mathbf{\\Omega}}, E'\\to E) \\psi(\\mathbf{r}, \\hat{\\mathbf{\\Omega}}', E', t) dV d\\Omega dE\n",
    "      $$"
   ]
  },
  {
   "cell_type": "markdown",
   "metadata": {
    "slideshow": {
     "slide_type": "subslide"
    }
   },
   "source": [
    "Together, these yield the neutron transport equation (without fission):\n",
    "\n",
    "$$\n",
    "\\begin{split}\n",
    "\\frac{1}{v} \\frac{\\partial \\psi }{\\partial t} \n",
    "  & = - \\hat{\\mathbf{\\Omega}} \\cdot \\nabla \\psi (\\mathbf{r}, \\hat{\\mathbf{\\Omega}}, E, t) \\\\\n",
    "     & - \\Sigma_t(\\mathbf{r}, E, t) \\psi(\\mathbf{r}, \\hat{\\mathbf{\\Omega}}, E, t) \\\\\n",
    "      &+ \\int_{4\\pi} \\int^{\\infty}_0 d\\Omega' dE' \\Sigma_s(\\mathbf{r}, \\hat{\\mathbf{\\Omega}}' \\to \\hat{\\mathbf{\\Omega}}, E'\\to E) \\psi(\\mathbf{r}, \\hat{\\mathbf{\\Omega}}', E', t) \\\\\n",
    "      &+ \\mathbf{s}  (\\mathbf{r}, \\hat{\\mathbf{\\Omega}}, E, t) \\, .\n",
    "\\end{split}\n",
    "$$"
   ]
  },
  {
   "cell_type": "markdown",
   "metadata": {
    "slideshow": {
     "slide_type": "slide"
    }
   },
   "source": [
    "## Boundary conditions"
   ]
  },
  {
   "cell_type": "markdown",
   "metadata": {
    "slideshow": {
     "slide_type": "fragment"
    }
   },
   "source": [
    "  - Fixed conditions on flux incident on some surface S:\n",
    "    $$\n",
    "       \\psi (\\mathbf{r}, \\hat{\\mathbf{\\Omega}}, E, t) = f (\\mathbf{r}, \\hat{\\mathbf{\\Omega}}, E, t) \n",
    "    $$\n",
    "    for $\\mathbf{r} \\in S$ and $\\hat{\\mathbf{n}}_S \\cdot \\hat{\\mathbf{\\Omega}} < 0$."
   ]
  },
  {
   "cell_type": "markdown",
   "metadata": {
    "slideshow": {
     "slide_type": "fragment"
    }
   },
   "source": [
    "  - Vacuum conditions when $f$ above is zero (i.e., no particles enter the surface)"
   ]
  },
  {
   "cell_type": "markdown",
   "metadata": {
    "slideshow": {
     "slide_type": "fragment"
    }
   },
   "source": [
    "  - Reflecting conditions: $\\psi(\\hat{\\mathbf{\\Omega}}) = \\psi(\\hat{\\mathbf{\\Omega}}_r )$, where $\\hat{\\mathbf{\\Omega}}_r = \\hat{\\mathbf{\\Omega}} - 2\\hat{\\mathbf{\\Omega}}\\cdot \\hat{\\mathbf{n}}_S \\hat{\\mathbf{n}}_S$ is the angle of reflection of a the surface with outward normal $\\hat{\\mathbf{n}}_S$."
   ]
  },
  {
   "cell_type": "markdown",
   "metadata": {
    "slideshow": {
     "slide_type": "fragment"
    }
   },
   "source": [
    "  - \"White\" boundary conditions:  reflect particles back \"isotropically\"\n",
    "  - \"Albedo\" boundary conditions: reflect a fraction back \"isotropically\""
   ]
  },
  {
   "cell_type": "markdown",
   "metadata": {
    "slideshow": {
     "slide_type": "slide"
    }
   },
   "source": [
    "## Transport in Cartesian Coordinates"
   ]
  },
  {
   "cell_type": "markdown",
   "metadata": {
    "slideshow": {
     "slide_type": "fragment"
    }
   },
   "source": [
    "The streaming operator in Cartesian coordinates reduces to (omitting $t$ and $E$)\n",
    "\n",
    "$$\n",
    "  \\hat{\\mathbf{\\Omega}} \\cdot \\nabla \\psi (\\mathbf{r}, \\hat{\\mathbf{\\Omega}})\n",
    "    = \\mu \\frac{\\partial \\psi}{\\partial x} +\n",
    "      \\eta \\frac{\\partial \\psi}{\\partial y} +\n",
    "      \\xi \\frac{\\partial \\psi}{\\partial x}\n",
    "$$\n",
    "\n",
    "where $\\hat{\\mathbf{\\Omega}} = \\mu \\hat{\\mathbf{i}} + \\eta \\hat{\\mathbf{j}} + \\xi \\hat{\\mathbf{k}}$.  "
   ]
  },
  {
   "cell_type": "markdown",
   "metadata": {
    "slideshow": {
     "slide_type": "fragment"
    }
   },
   "source": [
    "Again omitting $E$ and $t$, and assuming a purely absorbing medium with an external source $s$, one has the one-speed transport equation in \"slab\" geometry:\n",
    "\n",
    "$$\n",
    "  \\mu \\frac{d\\psi}{dx} + \\Sigma_t(x) \\psi(x, \\mu) = s(x, \\mu) \\, .\n",
    "$$\n",
    "\n",
    "This will be the the subject of our very first analytical solutions."
   ]
  },
  {
   "cell_type": "markdown",
   "metadata": {
    "slideshow": {
     "slide_type": "slide"
    }
   },
   "source": [
    "## Exercise 1\n",
    "\n",
    "Prove $n(\\mathbf{r}, \\hat{\\mathbf{\\Omega}}, E, t) = \\frac{v}{m} n(\\mathbf{r}, \\mathbf{v}, t)$."
   ]
  },
  {
   "cell_type": "markdown",
   "metadata": {
    "slideshow": {
     "slide_type": "slide"
    }
   },
   "source": [
    "## Exercise 2\n",
    "\n",
    "Derive the streaming operator (i.e., $\\hat{\\mathbf{\\Omega}} \\cdot \\nabla \\psi (\\mathbf{r}, \\hat{\\mathbf{\\Omega}}, E, t)$) for 1-D cylindrical and 1-D spherical coordinates.  For brevity, omit time and energy dependence in your derivation."
   ]
  },
  {
   "cell_type": "markdown",
   "metadata": {},
   "source": [
    "## Exercise 3\n",
    "\n",
    "Consider a slab of width $W$ cm.  Solve the time-independent, monoenergetic, transport equation for this slab assuming it consists of a purely absorbing medium having an absorption cross section $\\Sigma_a$ 1/cm.  Assume further that the slab is filled with an isotropic source $s(x, \\mu) = \\frac{s}{2}$ for $x\\in [0, W/2]$ (with no source in the other half).  Determine $\\psi$, $\\phi$, and $\\mathbf{J}$.  Plot $\\phi$ and $\\mathbf{J}$ for $\\Sigma_a = 5$ and $s = 2$."
   ]
  }
 ],
 "metadata": {
  "celltoolbar": "Slideshow",
  "kernelspec": {
   "display_name": "Python 3",
   "language": "python",
   "name": "python3"
  },
  "language_info": {
   "codemirror_mode": {
    "name": "ipython",
    "version": 3
   },
   "file_extension": ".py",
   "mimetype": "text/x-python",
   "name": "python",
   "nbconvert_exporter": "python",
   "pygments_lexer": "ipython3",
   "version": "3.6.5"
  }
 },
 "nbformat": 4,
 "nbformat_minor": 2
}
