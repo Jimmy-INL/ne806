{
 "cells": [
  {
   "cell_type": "markdown",
   "metadata": {
    "slideshow": {
     "slide_type": "slide"
    }
   },
   "source": [
    "# Sparse Systems and Iterative Methods\n",
    "\n",
    "We'll look at `scipy.sparse` along with some basic principles of iterative methods, which are at the heart of many production-level simulation tools (e.g., most finite-element modelers)."
   ]
  },
  {
   "cell_type": "markdown",
   "metadata": {
    "slideshow": {
     "slide_type": "subslide"
    }
   },
   "source": [
    "## Required Preparation\n",
    "\n",
    "\n",
    "- Review [linear systems](http://robertsj.github.io/python_for_engineers/courses/pythonic_apps_2/modules/module_2/module_2.html)\n"
   ]
  },
  {
   "cell_type": "markdown",
   "metadata": {
    "slideshow": {
     "slide_type": "subslide"
    }
   },
   "source": [
    "## Project 1\n",
    "\n",
    " - Teams of 2 or 3 \n",
    " - Problem must be central to a core ME class (e.g., thermo, fluids, heat transfer, machine design)\n",
    " - Solution must incorporate something from SciPy, collaborate version control, and unit tests.  *Can* include object-oriented programming and GUIs.\n",
    " - Half-page (max) proposal due by 10/11.\n",
    " - Final project with three-page (max) report due by 11/08.\n",
    " \n",
    " \n",
    "Goal here is on the *development practice* and not on how challenging the problem is, how complicated the solution is, etc.  Breadth and depth will be checked at proposal stage."
   ]
  },
  {
   "cell_type": "markdown",
   "metadata": {
    "slideshow": {
     "slide_type": "slide"
    }
   },
   "source": [
    "# Why Sparse Systems?\n",
    "\n",
    "Consider our model problem $-k y'' = q$ subject to $y(0) = y_L$ and $y(1) = y_R$.  Application of the central difference led to\n",
    "\n",
    "$$\n",
    " \\left (  \\begin{matrix}\n",
    "  1 & 0 & \\cdots & &\\\\\n",
    " -\\frac{k}{\\Delta^2} & \\frac{2k}{\\Delta^2} & -\\frac{k}{\\Delta^2} & 0 & \\ldots \\\\\n",
    " 0 & -\\frac{k}{\\Delta^2} & \\frac{2k}{\\Delta^2} & -\\frac{k}{\\Delta^2} & 0 & \\ldots \\\\\n",
    "  &   & \\ddots &   & \\ddots \\\\\n",
    "  &   &  & \\ldots & 0 & 1\\\\\n",
    " \\end{matrix} \\right )\n",
    " \\left (  \\begin{matrix}\n",
    "  y_0 \\\\\n",
    "  y_1 \\\\\n",
    "  y_2 \\\\\n",
    "  \\vdots \\\\\n",
    "  y_{n-1} \\\\\n",
    " \\end{matrix} \\right ) \n",
    "= \n",
    " \\left (  \\begin{matrix}\n",
    "  y_L \\\\\n",
    "  q_1 \\\\\n",
    "  q_2 \\\\\n",
    "  \\vdots \\\\\n",
    "  y_R \\\\\n",
    " \\end{matrix} \\right ) \n",
    "$$"
   ]
  },
  {
   "cell_type": "markdown",
   "metadata": {
    "slideshow": {
     "slide_type": "fragment"
    }
   },
   "source": [
    "Questions:\n",
    "\n",
    "  - How many elements of the matrix are nonzero (assume $k > 0$)?\n",
    "  - If we use a regular `np.array` to store this matrix, how much does a matrix-vector product cost to compute (i.e., how many floating-point operations does it require)?  \n",
    "  - Approximately what fraction of those operations are wasted?\n",
    "  - Could you solve this system on your machine if $n = 10000$?"
   ]
  },
  {
   "cell_type": "markdown",
   "metadata": {
    "slideshow": {
     "slide_type": "subslide"
    }
   },
   "source": [
    "Let's construct the model system (and solve it) using tools we already have:"
   ]
  },
  {
   "cell_type": "code",
   "execution_count": 11,
   "metadata": {
    "slideshow": {
     "slide_type": "fragment"
    }
   },
   "outputs": [
    {
     "data": {
      "text/plain": [
       "array([ 1.  ,  8.25, 10.5 ,  7.75,  0.  ])"
      ]
     },
     "execution_count": 11,
     "metadata": {},
     "output_type": "execute_result"
    }
   ],
   "source": [
    "import numpy as np\n",
    "def make_A_and_b(n, k=0.2, Delta = 0.1, y_L=0, y_R=0, q=1):\n",
    "    \"\"\"Make model \"\"\"\n",
    "    A = np.zeros((n, n))\n",
    "    b = np.ones(n)*q\n",
    "    b[0] = y_L; b[-1] = y_R\n",
    "    A[0, 0] = 1.0; A[-1, -1] = 1.0\n",
    "    for i in range(1, n-1):\n",
    "        A[i, i] = 2*k/Delta**2; A[i, i-1] = -k/Delta**2; A[i, i+1] = -k/Delta**2\n",
    "    return A, b\n",
    "A, b = make_A_and_b(5, Delta=1.0, y_L=1)\n",
    "np.linalg.solve(A, b)"
   ]
  },
  {
   "cell_type": "markdown",
   "metadata": {
    "slideshow": {
     "slide_type": "subslide"
    }
   },
   "source": [
    "Now, let's explore `scipy.sparse`.  Key commands:\n",
    "\n",
    "  - `scipy.sparse.csr_matrix`\n",
    "  - `scipy.sparse.linalg.spsolve`\n",
    "  - `scipy.sparse.csr_matrix`\n",
    "  - `scipy.sparse.csr_matrix.todense`\n",
    "  - `scipy.sparse.csr_matrix.diagonal`\n",
    "  - `scipy.sparse.diags`\n",
    "  - `scipy.sparse.tril` and `triu`"
   ]
  },
  {
   "cell_type": "code",
   "execution_count": 2,
   "metadata": {
    "slideshow": {
     "slide_type": "subslide"
    }
   },
   "outputs": [],
   "source": [
    "import scipy as sp\n",
    "import scipy.sparse\n",
    "import scipy.sparse.linalg "
   ]
  },
  {
   "cell_type": "code",
   "execution_count": 3,
   "metadata": {
    "slideshow": {
     "slide_type": "fragment"
    }
   },
   "outputs": [
    {
     "data": {
      "text/plain": [
       "<matplotlib.lines.Line2D at 0x7efd57213668>"
      ]
     },
     "execution_count": 3,
     "metadata": {},
     "output_type": "execute_result"
    }
   ],
   "source": [
    "# Create a sparse matrix from A\n",
    "A_sparse = sp.sparse.csr_matrix(A)\n",
    "A_sparse.toarray()\n",
    "import matplotlib.pyplot as plt\n",
    "plt.spy(A_sparse)"
   ]
  },
  {
   "cell_type": "code",
   "execution_count": 4,
   "metadata": {
    "slideshow": {
     "slide_type": "fragment"
    }
   },
   "outputs": [
    {
     "data": {
      "text/plain": [
       "array([ 1.  ,  8.25, 10.5 ,  7.75,  0.  ])"
      ]
     },
     "execution_count": 4,
     "metadata": {},
     "output_type": "execute_result"
    }
   ],
   "source": [
    "# Solve the sparse system\n",
    "sp.sparse.linalg.spsolve(A_sparse, b)"
   ]
  },
  {
   "cell_type": "markdown",
   "metadata": {
    "slideshow": {
     "slide_type": "subslide"
    }
   },
   "source": [
    "But we don't want to build a dense matrix in the first place..."
   ]
  },
  {
   "cell_type": "code",
   "execution_count": 5,
   "metadata": {
    "slideshow": {
     "slide_type": "fragment"
    }
   },
   "outputs": [
    {
     "data": {
      "text/plain": [
       "<5x5 sparse matrix of type '<class 'numpy.float64'>'\n",
       "\twith 11 stored elements in Compressed Sparse Row format>"
      ]
     },
     "execution_count": 5,
     "metadata": {},
     "output_type": "execute_result"
    }
   ],
   "source": [
    "# Look at the structure of A_sparse\n",
    "A_sparse"
   ]
  },
  {
   "cell_type": "code",
   "execution_count": 6,
   "metadata": {
    "slideshow": {
     "slide_type": "fragment"
    }
   },
   "outputs": [
    {
     "data": {
      "text/plain": [
       "array([[ 1. ,  0. ,  0. ,  0. ,  0. ],\n",
       "       [-0.2,  0.4, -0.2,  0. ,  0. ],\n",
       "       [ 0. , -0.2,  0.4, -0.2,  0. ],\n",
       "       [ 0. ,  0. , -0.2,  0.4, -0.2],\n",
       "       [ 0. ,  0. ,  0. ,  0. ,  1. ]])"
      ]
     },
     "execution_count": 6,
     "metadata": {},
     "output_type": "execute_result"
    }
   ],
   "source": [
    "# Build A_sparse again from that structure (other ways, too)\n",
    "tmp = A_sparse.data, A_sparse.indices, A_sparse.indptr\n",
    "A_sparse_2 = sp.sparse.csr_matrix(tmp)\n",
    "A_sparse_2.toarray()"
   ]
  },
  {
   "cell_type": "markdown",
   "metadata": {
    "slideshow": {
     "slide_type": "slide"
    }
   },
   "source": [
    "## Iterative Methods\n",
    "\n",
    "Consider $ax = b$.  Easy to solve, but pretend you don't have division.  How about\n",
    "\n",
    "$$\n",
    "  x^{new} = (1 - a)x^{old} + b\n",
    "$$"
   ]
  },
  {
   "cell_type": "code",
   "execution_count": 7,
   "metadata": {
    "slideshow": {
     "slide_type": "fragment"
    }
   },
   "outputs": [
    {
     "name": "stdout",
     "output_type": "stream",
     "text": [
      "1.0000e+00 5.2381e-01\n",
      "-1.0000e-01 -5.7619e-01\n",
      "1.1100e+00 6.3381e-01\n",
      "-2.2100e-01 -6.9719e-01\n",
      "1.2431e+00 7.6691e-01\n",
      "-3.6741e-01 -8.4360e-01\n",
      "1.4042e+00 9.2796e-01\n",
      "-5.4457e-01 -1.0208e+00\n",
      "1.5990e+00 1.1228e+00\n",
      "-7.5892e-01 -1.2351e+00\n",
      "1.8348e+00 1.3586e+00\n",
      "-1.0183e+00 -1.4945e+00\n",
      "2.1201e+00 1.6439e+00\n",
      "-1.3321e+00 -1.8083e+00\n",
      "2.4654e+00 1.9892e+00\n",
      "-1.7119e+00 -2.1881e+00\n",
      "2.8831e+00 2.4069e+00\n",
      "-2.1714e+00 -2.6476e+00\n",
      "3.3885e+00 2.9123e+00\n",
      "-2.7274e+00 -3.2036e+00\n",
      "4.0001e+00 3.5239e+00\n",
      "-3.4001e+00 -3.8763e+00\n",
      "4.7401e+00 4.2640e+00\n",
      "-4.2142e+00 -4.6903e+00\n",
      "5.6356e+00 5.1594e+00\n",
      "-5.1991e+00 -5.6753e+00\n",
      "6.7190e+00 6.2429e+00\n",
      "-6.3909e+00 -6.8671e+00\n",
      "8.0300e+00 7.5539e+00\n",
      "-7.8330e+00 -8.3092e+00\n",
      "9.6164e+00 9.1402e+00\n",
      "-9.5780e+00 -1.0054e+01\n",
      "1.1536e+01 1.1060e+01\n",
      "-1.1689e+01 -1.2166e+01\n",
      "1.3858e+01 1.3382e+01\n",
      "-1.4244e+01 -1.4720e+01\n",
      "1.6669e+01 1.6192e+01\n",
      "-1.7335e+01 -1.7812e+01\n",
      "2.0069e+01 1.9593e+01\n",
      "-2.1076e+01 -2.1552e+01\n",
      "2.4183e+01 2.3707e+01\n",
      "-2.5602e+01 -2.6078e+01\n",
      "2.9162e+01 2.8686e+01\n",
      "-3.1078e+01 -3.1554e+01\n",
      "3.5186e+01 3.4710e+01\n",
      "-3.7705e+01 -3.8181e+01\n",
      "4.2475e+01 4.1999e+01\n",
      "-4.5722e+01 -4.6199e+01\n",
      "5.1295e+01 5.0819e+01\n",
      "-5.5424e+01 -5.5900e+01\n",
      "6.1967e+01 6.1490e+01\n",
      "-6.7163e+01 -6.7639e+01\n",
      "7.4880e+01 7.4403e+01\n",
      "-8.1368e+01 -8.1844e+01\n",
      "9.0504e+01 9.0028e+01\n",
      "-9.8555e+01 -9.9031e+01\n",
      "1.0941e+02 1.0893e+02\n",
      "-1.1935e+02 -1.1983e+02\n",
      "1.3229e+02 1.3181e+02\n",
      "-1.4452e+02 -1.4499e+02\n",
      "1.5997e+02 1.5949e+02\n",
      "-1.7496e+02 -1.7544e+02\n",
      "1.9346e+02 1.9298e+02\n",
      "-2.1181e+02 -2.1228e+02\n",
      "2.3399e+02 2.3351e+02\n",
      "-2.5638e+02 -2.5686e+02\n",
      "2.8302e+02 2.8255e+02\n",
      "-3.1033e+02 -3.1080e+02\n",
      "3.4236e+02 3.4188e+02\n",
      "-3.7559e+02 -3.7607e+02\n",
      "4.1415e+02 4.1368e+02\n",
      "-4.5457e+02 -4.5504e+02\n",
      "5.0103e+02 5.0055e+02\n",
      "-5.5013e+02 -5.5060e+02\n",
      "6.0614e+02 6.0566e+02\n",
      "-6.6575e+02 -6.6623e+02\n",
      "7.3333e+02 7.3285e+02\n",
      "-8.0566e+02 -8.0614e+02\n",
      "8.8723e+02 8.8675e+02\n",
      "-9.7495e+02 -9.7543e+02\n",
      "1.0734e+03 1.0730e+03\n",
      "-1.1798e+03 -1.1803e+03\n",
      "1.2988e+03 1.2983e+03\n",
      "-1.4276e+03 -1.4281e+03\n",
      "1.5714e+03 1.5709e+03\n",
      "-1.7276e+03 -1.7280e+03\n",
      "1.9013e+03 1.9008e+03\n",
      "-2.0904e+03 -2.0909e+03\n",
      "2.3005e+03 2.3000e+03\n",
      "-2.5295e+03 -2.5300e+03\n",
      "2.7835e+03 2.7830e+03\n",
      "-3.0608e+03 -3.0613e+03\n",
      "3.3679e+03 3.3674e+03\n",
      "-3.7037e+03 -3.7042e+03\n",
      "4.0751e+03 4.0746e+03\n",
      "-4.4816e+03 -4.4821e+03\n",
      "4.9308e+03 4.9303e+03\n",
      "-5.4228e+03 -5.4233e+03\n",
      "5.9661e+03 5.9656e+03\n",
      "-6.5617e+03 -6.5622e+03\n"
     ]
    }
   ],
   "source": [
    "a = 2.1\n",
    "b = 1.0 # expect x=2.0\n",
    "x = 0.0\n",
    "for i in range(100):\n",
    "    x = (1-a)*x + b\n",
    "    print(\"{:.4e} {:.4e}\".format(x, x-b/a))"
   ]
  },
  {
   "cell_type": "markdown",
   "metadata": {
    "slideshow": {
     "slide_type": "subslide"
    }
   },
   "source": [
    "For matrices, this becomes Richardson iteration:\n",
    "\n",
    "$$\n",
    "  \\mathbf{x}^{new} = (\\mathbf{I}-\\mathbf{A})\\mathbf{x}^{old} + \\mathbf{b} \\, .\n",
    "$$\n",
    "\n",
    "Works only if $||\\mathbf{I}-\\mathbf{A}|| < 1$, which is not true for many systems, including our model problem!\n",
    "\n",
    "Ultimately, iteration is good when (1) matrices are *sparse* and (2) the number of iterations is small."
   ]
  },
  {
   "cell_type": "code",
   "execution_count": 18,
   "metadata": {
    "slideshow": {
     "slide_type": "fragment"
    }
   },
   "outputs": [
    {
     "name": "stdout",
     "output_type": "stream",
     "text": [
      "norm of error = 1.3725e+01\n",
      "norm of error = 1.2113e+01\n",
      "norm of error = 1.0692e+01\n",
      "norm of error = 9.4393e+00\n",
      "norm of error = 8.3333e+00\n",
      "norm of error = 7.3569e+00\n",
      "norm of error = 6.4950e+00\n",
      "norm of error = 5.7340e+00\n",
      "norm of error = 5.0622e+00\n",
      "norm of error = 4.4692e+00\n",
      "norm of error = 3.9456e+00\n",
      "norm of error = 3.4833e+00\n",
      "norm of error = 3.0752e+00\n",
      "norm of error = 2.7149e+00\n",
      "norm of error = 2.3969e+00\n",
      "norm of error = 2.1160e+00\n",
      "norm of error = 1.8681e+00\n",
      "norm of error = 1.6493e+00\n",
      "norm of error = 1.4560e+00\n",
      "norm of error = 1.2855e+00\n",
      "norm of error = 1.1349e+00\n",
      "norm of error = 1.0019e+00\n",
      "norm of error = 8.8452e-01\n",
      "norm of error = 7.8089e-01\n",
      "norm of error = 6.8941e-01\n",
      "norm of error = 6.0864e-01\n",
      "norm of error = 5.3733e-01\n",
      "norm of error = 4.7438e-01\n",
      "norm of error = 4.1880e-01\n",
      "norm of error = 3.6974e-01\n",
      "norm of error = 3.2642e-01\n",
      "norm of error = 2.8818e-01\n",
      "norm of error = 2.5441e-01\n",
      "norm of error = 2.2461e-01\n",
      "norm of error = 1.9829e-01\n",
      "norm of error = 1.7506e-01\n",
      "norm of error = 1.5455e-01\n",
      "norm of error = 1.3645e-01\n",
      "norm of error = 1.2046e-01\n",
      "norm of error = 1.0635e-01\n",
      "norm of error = 9.3888e-02\n",
      "norm of error = 8.2888e-02\n",
      "norm of error = 7.3177e-02\n",
      "norm of error = 6.4604e-02\n",
      "norm of error = 5.7035e-02\n",
      "norm of error = 5.0353e-02\n",
      "norm of error = 4.4454e-02\n",
      "norm of error = 3.9246e-02\n",
      "norm of error = 3.4648e-02\n",
      "norm of error = 3.0589e-02\n",
      "norm of error = 2.7005e-02\n",
      "norm of error = 2.3841e-02\n",
      "norm of error = 2.1048e-02\n",
      "norm of error = 1.8582e-02\n",
      "norm of error = 1.6405e-02\n",
      "norm of error = 1.4483e-02\n",
      "norm of error = 1.2786e-02\n",
      "norm of error = 1.1288e-02\n",
      "norm of error = 9.9657e-03\n",
      "norm of error = 8.7982e-03\n",
      "norm of error = 7.7674e-03\n",
      "norm of error = 6.8574e-03\n",
      "norm of error = 6.0540e-03\n",
      "norm of error = 5.3447e-03\n",
      "norm of error = 4.7186e-03\n",
      "norm of error = 4.1657e-03\n",
      "norm of error = 3.6777e-03\n",
      "norm of error = 3.2468e-03\n",
      "norm of error = 2.8664e-03\n",
      "norm of error = 2.5306e-03\n",
      "norm of error = 2.2341e-03\n",
      "norm of error = 1.9724e-03\n",
      "norm of error = 1.7413e-03\n",
      "norm of error = 1.5373e-03\n",
      "norm of error = 1.3572e-03\n",
      "norm of error = 1.1982e-03\n",
      "norm of error = 1.0578e-03\n",
      "norm of error = 9.3388e-04\n",
      "norm of error = 8.2447e-04\n",
      "norm of error = 7.2788e-04\n",
      "norm of error = 6.4260e-04\n",
      "norm of error = 5.6732e-04\n",
      "norm of error = 5.0085e-04\n",
      "norm of error = 4.4217e-04\n",
      "norm of error = 3.9037e-04\n",
      "norm of error = 3.4463e-04\n",
      "norm of error = 3.0426e-04\n",
      "norm of error = 2.6861e-04\n",
      "norm of error = 2.3714e-04\n",
      "norm of error = 2.0936e-04\n",
      "norm of error = 1.8483e-04\n",
      "norm of error = 1.6318e-04\n",
      "norm of error = 1.4406e-04\n",
      "norm of error = 1.2718e-04\n",
      "norm of error = 1.1228e-04\n",
      "norm of error = 9.9127e-05\n",
      "norm of error = 8.7514e-05\n",
      "norm of error = 7.7261e-05\n",
      "norm of error = 6.8209e-05\n",
      "norm of error = 6.0218e-05\n",
      "[ 1.    8.25 10.5   7.75  0.  ]\n",
      "[ 1.          8.24996989 10.49995742  7.74996989  0.        ]\n"
     ]
    }
   ],
   "source": [
    "x_sol = sp.sparse.linalg.spsolve(A_sparse, b)\n",
    "\n",
    "x = sp.zeros(5)\n",
    "for i in range(100):\n",
    "    x = x - A_sparse@x + b\n",
    "    print(\"norm of error = {:.4e}\".format(sp.linalg.norm(x-x_sol)))\n",
    "    \n",
    "print(x_sol)\n",
    "print(x)"
   ]
  },
  {
   "cell_type": "markdown",
   "metadata": {
    "slideshow": {
     "slide_type": "subslide"
    }
   },
   "source": [
    "Better option: *precondition* the system with some matrix $\\mathbf{P}$, i.e., solve\n",
    "\n",
    "$$\n",
    "  \\mathbf{P}^{-1} \\mathbf{A} \\mathbf{x} = \\mathbf{P}^{-1} \\mathbf{b}\n",
    "$$"
   ]
  },
  {
   "cell_type": "markdown",
   "metadata": {
    "slideshow": {
     "slide_type": "fragment"
    }
   },
   "source": [
    "What's the \"best\" possible $\\mathbf{P}$?"
   ]
  },
  {
   "cell_type": "markdown",
   "metadata": {
    "slideshow": {
     "slide_type": "subslide"
    }
   },
   "source": [
    "## The Classical Schemes\n",
    "\n",
    "Let $\\mathbf{P}$ be the main diagonal $\\mathbf{D}$ of $\\mathbf{A}$.  Then,\n",
    "\n",
    "$$\n",
    "  \\mathbf{x}^{new} = (\\mathbf{I}-\\mathbf{D}^{-1}\\mathbf{A})\\mathbf{x}^{old} + \\mathbf{D}^{-1}\\mathbf{b} \\, .\n",
    "$$\n",
    "\n",
    "This is **Jacobi iteration**."
   ]
  },
  {
   "cell_type": "code",
   "execution_count": 25,
   "metadata": {
    "slideshow": {
     "slide_type": "fragment"
    }
   },
   "outputs": [
    {
     "name": "stdout",
     "output_type": "stream",
     "text": [
      "0 norm of error = 1.1164e+01\n",
      "1 norm of error = 7.8899e+00\n",
      "2 norm of error = 5.5790e+00\n",
      "3 norm of error = 3.9449e+00\n",
      "4 norm of error = 2.7895e+00\n",
      "5 norm of error = 1.9725e+00\n",
      "6 norm of error = 1.3947e+00\n",
      "7 norm of error = 9.8623e-01\n",
      "8 norm of error = 6.9737e-01\n",
      "9 norm of error = 4.9312e-01\n",
      "10 norm of error = 3.4869e-01\n",
      "11 norm of error = 2.4656e-01\n",
      "12 norm of error = 1.7434e-01\n",
      "13 norm of error = 1.2328e-01\n",
      "14 norm of error = 8.7172e-02\n",
      "15 norm of error = 6.1640e-02\n",
      "16 norm of error = 4.3586e-02\n",
      "17 norm of error = 3.0820e-02\n",
      "18 norm of error = 2.1793e-02\n",
      "19 norm of error = 1.5410e-02\n",
      "20 norm of error = 1.0896e-02\n",
      "21 norm of error = 7.7049e-03\n",
      "22 norm of error = 5.4482e-03\n",
      "23 norm of error = 3.8525e-03\n",
      "24 norm of error = 2.7241e-03\n",
      "25 norm of error = 1.9262e-03\n",
      "26 norm of error = 1.3621e-03\n",
      "27 norm of error = 9.6312e-04\n",
      "28 norm of error = 6.8103e-04\n",
      "29 norm of error = 4.8156e-04\n",
      "30 norm of error = 3.4051e-04\n",
      "31 norm of error = 2.4078e-04\n",
      "32 norm of error = 1.7026e-04\n",
      "33 norm of error = 1.2039e-04\n",
      "34 norm of error = 8.5128e-05\n",
      "35 norm of error = 6.0195e-05\n",
      "36 norm of error = 4.2564e-05\n",
      "37 norm of error = 3.0097e-05\n",
      "38 norm of error = 2.1282e-05\n",
      "39 norm of error = 1.5049e-05\n",
      "40 norm of error = 1.0641e-05\n",
      "41 norm of error = 7.5244e-06\n",
      "42 norm of error = 5.3205e-06\n",
      "43 norm of error = 3.7622e-06\n",
      "44 norm of error = 2.6603e-06\n",
      "45 norm of error = 1.8811e-06\n",
      "46 norm of error = 1.3301e-06\n",
      "47 norm of error = 9.4055e-07\n",
      "48 norm of error = 6.6507e-07\n",
      "49 norm of error = 4.7027e-07\n",
      "50 norm of error = 3.3253e-07\n",
      "51 norm of error = 2.3514e-07\n",
      "52 norm of error = 1.6627e-07\n",
      "53 norm of error = 1.1757e-07\n",
      "54 norm of error = 8.3133e-08\n",
      "55 norm of error = 5.8784e-08\n",
      "56 norm of error = 4.1567e-08\n",
      "57 norm of error = 2.9392e-08\n",
      "58 norm of error = 2.0783e-08\n",
      "59 norm of error = 1.4696e-08\n",
      "60 norm of error = 1.0392e-08\n",
      "61 norm of error = 7.3480e-09\n",
      "62 norm of error = 5.1958e-09\n",
      "63 norm of error = 3.6740e-09\n",
      "64 norm of error = 2.5979e-09\n",
      "65 norm of error = 1.8370e-09\n",
      "66 norm of error = 1.2990e-09\n",
      "67 norm of error = 9.1850e-10\n",
      "68 norm of error = 6.4948e-10\n",
      "69 norm of error = 4.5925e-10\n",
      "70 norm of error = 3.2474e-10\n",
      "71 norm of error = 2.2962e-10\n",
      "72 norm of error = 1.6237e-10\n",
      "73 norm of error = 1.1481e-10\n",
      "74 norm of error = 8.1183e-11\n",
      "75 norm of error = 5.7404e-11\n",
      "76 norm of error = 4.0590e-11\n",
      "77 norm of error = 2.8701e-11\n",
      "78 norm of error = 2.0294e-11\n",
      "79 norm of error = 1.4349e-11\n",
      "80 norm of error = 1.0146e-11\n",
      "81 norm of error = 7.1737e-12\n",
      "82 norm of error = 5.0719e-12\n",
      "83 norm of error = 3.5853e-12\n",
      "84 norm of error = 2.5344e-12\n",
      "85 norm of error = 1.7914e-12\n",
      "86 norm of error = 1.2659e-12\n",
      "87 norm of error = 8.9484e-13\n",
      "88 norm of error = 6.3211e-13\n",
      "89 norm of error = 4.4635e-13\n",
      "90 norm of error = 3.1498e-13\n",
      "91 norm of error = 2.2166e-13\n",
      "92 norm of error = 1.5598e-13\n",
      "93 norm of error = 1.0953e-13\n",
      "94 norm of error = 7.6698e-14\n",
      "95 norm of error = 5.3938e-14\n",
      "96 norm of error = 3.7514e-14\n",
      "97 norm of error = 2.5925e-14\n",
      "98 norm of error = 1.8137e-14\n",
      "99 norm of error = 1.3441e-14\n",
      "[ 1.    8.25 10.5   7.75  0.  ]\n",
      "[ 1.    8.25 10.5   7.75  0.  ]\n"
     ]
    }
   ],
   "source": [
    "D_inv = sp.sparse.diags(1.0/A_sparse.diagonal(0))\n",
    "\n",
    "x_sol = sp.sparse.linalg.spsolve(A_sparse, b)\n",
    "x = sp.zeros(5)\n",
    "for i in range(100):\n",
    "    x = x - D_inv@(A_sparse@x) + D_inv*b\n",
    "    print(\"{} norm of error = {:.4e}\".format(i, sp.linalg.norm(x-x_sol)))\n",
    "    \n",
    "print(x_sol)\n",
    "print(x)"
   ]
  },
  {
   "cell_type": "markdown",
   "metadata": {
    "slideshow": {
     "slide_type": "subslide"
    }
   },
   "source": [
    "Let $\\mathbf{P}$ be the main diagonal $\\mathbf{D+U}$ of $\\mathbf{A}$ (i.e., everything on and below the main diagonal.  Then,\n",
    "\n",
    "$$\n",
    "  \\mathbf{x}^{new} = (\\mathbf{I}-\\mathbf{(D+U)}^{-1}\\mathbf{A})\\mathbf{x}^{old} + \\mathbf{(D+U)}^{-1}\\mathbf{b} \\, .\n",
    "$$\n",
    "\n",
    "This is **Gauss-Seidel iteration**."
   ]
  },
  {
   "cell_type": "code",
   "execution_count": null,
   "metadata": {
    "slideshow": {
     "slide_type": "fragment"
    }
   },
   "outputs": [],
   "source": []
  },
  {
   "cell_type": "markdown",
   "metadata": {
    "slideshow": {
     "slide_type": "subslide"
    }
   },
   "source": [
    "## Advanced Schemes\n",
    "\n",
    "Several schemes exist that outperform Jacobi and Gauss Seidel. Many of these are *Krylov subspace* methods, e.g., GMRES.  All seek a solution $\\mathbf{x} \\in \\mathcal{K}_n = [\\mathbf{x}_0, \\mathbf{Ax}_0, \\mathbf{A}^2\\mathbf{x}_0, \\ldots \\mathbf{A}^{n-1}\\mathbf{x}_0]$.  "
   ]
  },
  {
   "cell_type": "code",
   "execution_count": 26,
   "metadata": {
    "slideshow": {
     "slide_type": "fragment"
    }
   },
   "outputs": [],
   "source": [
    "sp.sparse.linalg.gmres?"
   ]
  }
 ],
 "metadata": {
  "celltoolbar": "Slideshow",
  "kernelspec": {
   "display_name": "Python 3",
   "language": "python",
   "name": "python3"
  },
  "language_info": {
   "codemirror_mode": {
    "name": "ipython",
    "version": 3
   },
   "file_extension": ".py",
   "mimetype": "text/x-python",
   "name": "python",
   "nbconvert_exporter": "python",
   "pygments_lexer": "ipython3",
   "version": "3.7.3"
  },
  "livereveal": {
   "scroll": true
  }
 },
 "nbformat": 4,
 "nbformat_minor": 2
}
