{
 "cells": [
  {
   "cell_type": "markdown",
   "metadata": {},
   "source": [
    "$$\n",
    "  \\Sigma_t(E) \\psi(E) = \\frac{1}{4\\pi} \\int^{\\infty}_{0} \\Sigma_s(E'\\to E)\\phi(E') dE' \n",
    "         + \\frac{\\chi(E)}{4\\pi k} \\int^{\\infty}_0 \\nu\\Sigma_f(E')\\phi(E')dE' \\, .\n",
    "$$\n",
    "\n",
    "$$\n",
    "  \\Sigma_t(E) \\phi(E) = \\int^{\\infty}_{0} \\Sigma_s(E'\\to E)\\phi(E') dE' \n",
    "         + \\frac{\\chi(E)}{ k} \\int^{\\infty}_0 \\nu\\Sigma_f(E')\\phi(E')dE' \\, .\n",
    "$$"
   ]
  },
  {
   "cell_type": "markdown",
   "metadata": {},
   "source": [
    "$$\n",
    "   \\Sigma_{t,g} \\phi_g = \\sum^{N_g}_{g'=1} \\Sigma_{s,gg'} \\phi_{g'} + \\frac{\\chi_g}{\\color{red}{k_{\\infty}}} \\sum^{N_g}_{g'=1} \\nu\\Sigma_{f,g'} \\phi_{g'} \\, , \\qquad g = 1, 2, \\ldots, N_g \\, .\n",
    "$$"
   ]
  },
  {
   "cell_type": "markdown",
   "metadata": {},
   "source": [
    "$$\n",
    "   \\mathbf{T} \\boldsymbol{\\phi} \n",
    "      = \\mathbf{S} \\boldsymbol{\\phi} \n",
    "        +  \\frac{1}{k} \\boldsymbol{x}^T \\boldsymbol{f} \\boldsymbol{\\phi} \\, .\n",
    "$$"
   ]
  },
  {
   "cell_type": "markdown",
   "metadata": {},
   "source": [
    "Here, \n",
    "\n",
    "  - $\\mathbf{T} = \\text{diag}(\\Sigma_{t,:})$\n",
    "  - $\\mathbf{S}$ has elements $S_{gg'} = \\Sigma_{s, gg'}$\n",
    "  - $\\mathbf{x}^T = [\\chi_1, \\chi_2, \\ldots]$ and $\\mathbf{f} = [\\nu\\Sigma_{f,1} \\ldots]$"
   ]
  },
  {
   "cell_type": "markdown",
   "metadata": {},
   "source": [
    "$$\n",
    "    \\overbrace{\\big ( \\mathbf{T} - \\mathbf{S}  \\big )^{-1}  (\\boldsymbol{x}^T \\boldsymbol{f})}^{\\mathbf{A}}   \n",
    "    \\boldsymbol{\\phi}\n",
    "      =  k  \\boldsymbol{\\phi}  \\, .\n",
    "$$"
   ]
  },
  {
   "cell_type": "markdown",
   "metadata": {},
   "source": [
    "$$\n",
    " R_g = <\\Sigma, \\phi>_g = \\Sigma^{eff}_g \\phi_g  \\rightarrow \\boxed{\\Sigma^{eff}_g = <\\Sigma, \\phi>_g / \\phi_g}\n",
    "$$"
   ]
  },
  {
   "cell_type": "markdown",
   "metadata": {},
   "source": [
    "$$\n",
    " \\Sigma_s(E') = \\int^{\\infty}_0 \\Sigma_s(E'\\to E) dE = \\int^{\\infty}_0 \\Sigma_s(E') \\overbrace{f(E'\\to E)}^{1/[E'(1-\\alpha)]} dE\n",
    "$$"
   ]
  },
  {
   "cell_type": "markdown",
   "metadata": {},
   "source": [
    "$\\Sigma_s(E'\\to E)  = \\Sigma_s(E') f(E'\\to E) \\rightarrow \\Sigma_{g'g}$"
   ]
  },
  {
   "cell_type": "markdown",
   "metadata": {},
   "source": [
    "$$ \n",
    "   R_{g'g}  = \\int^{E_{g-1}}_{E_g} dE \\int^{E_{g'-1}}_{E_g'} dE'  \\Sigma_s(E'\\to E)\\phi(E') \n",
    "$$\n",
    "\n",
    "$$ \n",
    "   R_{g'g}  = \\int^{E_{g-1}}_{E_g} dE \\int^{E_{g'-1}}_{E_g'} dE'  \\Sigma_s(E')f(E'\\to E)\\phi(E') \n",
    "$$"
   ]
  },
  {
   "cell_type": "markdown",
   "metadata": {},
   "source": [
    "$$ \n",
    "\\begin{split}\n",
    "   R_{g'g}  &=  \\int^{E_{g'-1}}_{E_g'} dE'  \\Sigma_s(E') \\phi(E')   \\int^{E_{g-1}}_{E_g} dE f(E'\\to E) \\\\\n",
    "     &= \\int^{E_{g'-1}}_{E_g'} dE'  \\Sigma_s(E') \\phi(E')   \\int^{E_{g-1}}_{E_g} \\frac{dE g(E)}{E'(1-\\alpha)} \\, .\n",
    "\\end{split}\n",
    "$$\n",
    "\n",
    "where\n",
    "\n",
    "$g(E) = 1$ if $ \\alpha E' \\leq E \\leq E'$ and 0 otherwise.\n",
    "\n",
    "\n",
    "$$\n",
    "R_{gg'} = \\Sigma^{eff}_{s,gg'} \\phi_{g'}\n",
    "$$"
   ]
  },
  {
   "cell_type": "markdown",
   "metadata": {},
   "source": [
    "$$\n",
    "\\Sigma_{s,g'g} \\rightarrow \\Sigma_{s, g} = \\sum^{N_g}_{g'=1} \\Sigma_{s,gg'}\n",
    "$$"
   ]
  },
  {
   "cell_type": "code",
   "execution_count": null,
   "metadata": {},
   "outputs": [],
   "source": [
    "from scipy.integrate import quad\n",
    "import numpy as np\n",
    "sigH = 20\n",
    "phi = lambda E: 1/E\n",
    "alpha = 0.0\n",
    "Es = np.logspace(-5, 7, 6)[::-1]\n",
    "f = lambda E, alpha, Ep: 1/(Ep*(1-alpha)) if (alpha*Ep <= E <= Ep) else 0.0\n",
    "R = np.zeros((len(Es)-1,len(Es)-1))\n",
    "S = R*0\n",
    "for g in range(len(Es)-1):\n",
    "    for gp in range(len(Es)-1):\n",
    "        E_gp = np.linspace(Es[gp+1], Es[gp], 1000)\n",
    "        vals = []\n",
    "        for i in range(len(E_gp)):\n",
    "            vals.append(quad(lambda E: f(E, alpha, E_gp[i]), Es[g+1], Es[g])[0])\n",
    "        #phi_gp = np.trapz(1/E_gp, E_gp) \n",
    "        # phi_gp = int(1/E,e0,e1) = ln(E0)-ln(E1)\n",
    "        phi_gp = np.log(Es[gp]/Es[gp+1])\n",
    "        R_gp_g = np.trapz(np.array(vals), E_gp)\n",
    "        R[g, gp] = R_gp_g\n",
    "        #print(phi_gp)\n",
    "        S[g, gp] = R[g, gp] / phi_gp \n",
    "import matplotlib.pyplot as plt\n",
    "R"
   ]
  },
  {
   "cell_type": "code",
   "execution_count": null,
   "metadata": {},
   "outputs": [],
   "source": [
    "plt.plot"
   ]
  },
  {
   "cell_type": "code",
   "execution_count": 11,
   "metadata": {},
   "outputs": [
    {
     "data": {
      "text/latex": [
       "$\\displaystyle - \\frac{E_{gL} - E_{gU}}{E_{gpU} \\left(\\alpha - 1\\right)} + \\frac{E_{gL} - E_{gU}}{E_{gpL} \\left(\\alpha - 1\\right)}$"
      ],
      "text/plain": [
       "-(E_gL - E_gU)/(E_gpU*(alpha - 1)) + (E_gL - E_gU)/(E_gpL*(alpha - 1))"
      ]
     },
     "execution_count": 11,
     "metadata": {},
     "output_type": "execute_result"
    }
   ],
   "source": [
    "outer.doit()"
   ]
  },
  {
   "cell_type": "code",
   "execution_count": 14,
   "metadata": {},
   "outputs": [
    {
     "ename": "AttributeError",
     "evalue": "module 'sympy' has no attribute 'min'",
     "output_type": "error",
     "traceback": [
      "\u001b[0;31m---------------------------------------------------------------------------\u001b[0m",
      "\u001b[0;31mAttributeError\u001b[0m                            Traceback (most recent call last)",
      "\u001b[0;32m<ipython-input-14-03e0ca3926cb>\u001b[0m in \u001b[0;36m<module>\u001b[0;34m\u001b[0m\n\u001b[0;32m----> 1\u001b[0;31m \u001b[0msy\u001b[0m\u001b[0;34m.\u001b[0m\u001b[0mmin\u001b[0m\u001b[0;34m\u001b[0m\u001b[0;34m\u001b[0m\u001b[0m\n\u001b[0m",
      "\u001b[0;31mAttributeError\u001b[0m: module 'sympy' has no attribute 'min'"
     ]
    }
   ],
   "source": [
    "max(E_gL, alpha*E_gp)"
   ]
  },
  {
   "cell_type": "code",
   "execution_count": null,
   "metadata": {},
   "outputs": [],
   "source": [
    "sy.Heaviside()"
   ]
  }
 ],
 "metadata": {
  "kernelspec": {
   "display_name": "Python 3",
   "language": "python",
   "name": "python3"
  },
  "language_info": {
   "codemirror_mode": {
    "name": "ipython",
    "version": 3
   },
   "file_extension": ".py",
   "mimetype": "text/x-python",
   "name": "python",
   "nbconvert_exporter": "python",
   "pygments_lexer": "ipython3",
   "version": "3.7.3"
  }
 },
 "nbformat": 4,
 "nbformat_minor": 2
}
