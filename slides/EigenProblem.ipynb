{
 "cells": [
  {
   "cell_type": "markdown",
   "metadata": {},
   "source": [
    "$$\n",
    "  \\Sigma_t(E) \\psi(E) = \\frac{1}{4\\pi} \\int^{\\infty}_{0} \\Sigma_s(E'\\to E)\\phi(E') dE' \n",
    "         + \\frac{\\chi(E)}{4\\pi k} \\int^{\\infty}_0 \\nu\\Sigma_f(E')\\phi(E')dE' \\, .\n",
    "$$\n",
    "\n",
    "$$\n",
    "  \\Sigma_t(E) \\phi(E) = \\int^{\\infty}_{0} \\Sigma_s(E'\\to E)\\phi(E') dE' \n",
    "         + \\frac{\\chi(E)}{ k} \\int^{\\infty}_0 \\nu\\Sigma_f(E')\\phi(E')dE' \\, .\n",
    "$$"
   ]
  },
  {
   "cell_type": "markdown",
   "metadata": {},
   "source": [
    "$$\n",
    "   \\Sigma_{t,g} \\phi_g = \\sum^{N_g}_{g'=1} \\Sigma_{s,gg'} \\phi_{g'} + \\frac{\\chi_g}{\\color{red}{k_{\\infty}}} \\sum^{N_g}_{g'=1} \\nu\\Sigma_{f,g'} \\phi_{g'} \\, , \\qquad g = 1, 2, \\ldots, N_g \\, .\n",
    "$$"
   ]
  },
  {
   "cell_type": "markdown",
   "metadata": {},
   "source": [
    "$$\n",
    "   \\mathbf{T} \\boldsymbol{\\phi} \n",
    "      = \\mathbf{S} \\boldsymbol{\\phi} \n",
    "        +  \\frac{1}{k} \\boldsymbol{x}^T \\boldsymbol{f} \\boldsymbol{\\phi} \\, .\n",
    "$$"
   ]
  },
  {
   "cell_type": "markdown",
   "metadata": {},
   "source": [
    "Here, \n",
    "\n",
    "  - $\\mathbf{T} = \\text{diag}(\\Sigma_{t,:})$\n",
    "  - $\\mathbf{S}$ has elements $S_{gg'} = \\Sigma_{s, gg'}$\n",
    "  - $\\mathbf{x}^T = [\\chi_1, \\chi_2, \\ldots]$ and $\\mathbf{f} = [\\nu\\Sigma_{f,1} \\ldots]$"
   ]
  },
  {
   "cell_type": "markdown",
   "metadata": {},
   "source": [
    "$$\n",
    "    \\overbrace{\\big ( \\mathbf{T} - \\mathbf{S}  \\big )^{-1}  (\\boldsymbol{x}^T \\boldsymbol{f})}^{\\mathbf{A}}   \n",
    "    \\boldsymbol{\\phi}\n",
    "      =  k  \\boldsymbol{\\phi}  \\, .\n",
    "$$"
   ]
  },
  {
   "cell_type": "markdown",
   "metadata": {},
   "source": [
    "$$\n",
    " R_g = <\\Sigma, \\phi>_g = \\Sigma^{eff}_g \\phi_g  \\rightarrow \\boxed{\\Sigma^{eff}_g = <\\Sigma, \\phi>_g / \\phi_g}\n",
    "$$"
   ]
  },
  {
   "cell_type": "markdown",
   "metadata": {},
   "source": [
    "$$\n",
    " \\Sigma_s(E') = \\int^{\\infty}_0 \\Sigma_s(E'\\to E) dE = \\int^{\\infty}_0 \\Sigma_s(E') \\overbrace{f(E'\\to E)}^{1/[E'(1-\\alpha)]} dE\n",
    "$$"
   ]
  },
  {
   "cell_type": "markdown",
   "metadata": {},
   "source": [
    "$\\Sigma_s(E'\\to E)  = \\Sigma_s(E') f(E'\\to E) \\rightarrow \\Sigma_{g'g}$"
   ]
  },
  {
   "cell_type": "markdown",
   "metadata": {},
   "source": [
    "$$ \n",
    "   R_{g'g}  = \\int^{E_{g-1}}_{E_g} dE \\int^{E_{g'-1}}_{E_g'} dE'  \\Sigma_s(E'\\to E)\\phi(E') \n",
    "$$\n",
    "\n",
    "$$ \n",
    "   R_{g'g}  = \\int^{E_{g-1}}_{E_g} dE \\int^{E_{g'-1}}_{E_g'} dE'  \\Sigma_s(E')f(E'\\to E)\\phi(E') \n",
    "$$"
   ]
  },
  {
   "cell_type": "markdown",
   "metadata": {},
   "source": [
    "$$ \n",
    "\\begin{split}\n",
    "   R_{g'g}  &=  \\int^{E_{g'-1}}_{E_g'} dE'  \\Sigma_s(E') \\phi(E')   \\int^{E_{g-1}}_{E_g} dE f(E'\\to E) \\\\\n",
    "     &= \\int^{E_{g'-1}}_{E_g'} dE'  \\Sigma_s(E') \\phi(E')   \\int^{E_{g-1}}_{E_g} \\frac{dE g(E)}{E'(1-\\alpha)} \\, .\n",
    "\\end{split}\n",
    "$$\n",
    "\n",
    "where\n",
    "\n",
    "$g(E) = 1$ if $ \\alpha E' \\leq E \\leq E'$ and 0 otherwise.\n",
    "\n",
    "\n",
    "$$\n",
    "R_{gg'} = \\Sigma^{eff}_{s,gg'} \\phi_{g'}\n",
    "$$"
   ]
  },
  {
   "cell_type": "markdown",
   "metadata": {},
   "source": [
    "$$\n",
    "\\Sigma_{s,g'g} \\rightarrow \\Sigma_{s, g} = \\sum^{N_g}_{g'=1} \\Sigma_{s,gg'}\n",
    "$$"
   ]
  },
  {
   "cell_type": "code",
   "execution_count": 174,
   "metadata": {},
   "outputs": [],
   "source": [
    "from scipy.integrate import quad\n",
    "import numpy as np\n",
    "sigH = 20\n",
    "phi = lambda E: 1/E\n",
    "alpha = 0.0\n",
    "Es = np.logspace(-5, 7, 3)[::-1]\n",
    "#Es[-1] = 1e-15\n",
    "#Es = np.linspace(0.1, 100, 3)[::-1]\n",
    "f = lambda E, alpha, Ep: 1/(Ep*(1-alpha)) if (alpha*Ep <= E <= Ep) else 0.0\n",
    "def f(E, alpha, Ep):\n",
    "    v = 1/Ep/(1-alpha)*np.ones_like(E)\n",
    "    v[alpha*Ep >= E] = 0.0\n",
    "    v[E >= Ep] = 0.0\n",
    "    return v\n",
    "R = np.zeros((len(Es)-1,len(Es)-1))\n",
    "S = R*0\n",
    "\n",
    "nn = 5000\n",
    "E_log = [np.logspace(np.log10(Es[1]), np.log10(Es[0]), nn),\n",
    "         np.logspace(np.log10(Es[2]), np.log10(Es[1]), nn)]\n",
    "#E_log = [np.linspace(Es[1], Es[0], nn),\n",
    "#         np.linspace(Es[2], Es[1], nn)]\n",
    "\n",
    "\n",
    "for g in range(len(Es)-1):\n",
    "    #E_g = np.linspace(Es[g+1], Es[g], 100)\n",
    "    #E_g = np.logspace(np.log10(Es[g+1]), np.log10(Es[g]), 500)\n",
    "    E_g = E_log[g]\n",
    "    for gp in range(len(Es)-1):\n",
    "        #E_gp = np.linspace(Es[gp+1], Es[gp], 100)\n",
    "        #E_gp = np.logspace(np.log10(Es[gp+1]), np.log10(Es[gp]), 500)\n",
    "        E_gp = E_log[gp]\n",
    "        vals = []\n",
    "        for i in range(len(E_gp)):\n",
    "            #vals.append(quad(lambda E: f(E, alpha, E_gp[i]), Es[g+1], Es[g])[0])\n",
    "            vals.append(np.trapz(f(E_g, alpha, E_gp[i]), E_g))\n",
    "        phi_gp = np.log(Es[gp]/Es[gp+1])\n",
    "        R_gp_g = np.trapz(np.array(vals)*1/E_gp, E_gp)\n",
    "        R[g, gp] = R_gp_g\n",
    "        S[g, gp] = R[g, gp] / phi_gp \n",
    "import matplotlib.pyplot as plt"
   ]
  },
  {
   "cell_type": "code",
   "execution_count": 175,
   "metadata": {},
   "outputs": [
    {
     "data": {
      "text/plain": [
       "array([[0.92623887, 0.        ],\n",
       "       [0.07238241, 0.92623887]])"
      ]
     },
     "execution_count": 175,
     "metadata": {},
     "output_type": "execute_result"
    }
   ],
   "source": [
    "S"
   ]
  },
  {
   "cell_type": "code",
   "execution_count": 173,
   "metadata": {},
   "outputs": [
    {
     "data": {
      "text/plain": [
       "array([7.83752566, 0.59798413])"
      ]
     },
     "execution_count": 173,
     "metadata": {},
     "output_type": "execute_result"
    }
   ],
   "source": [
    "np.sum(S, 0)"
   ]
  },
  {
   "cell_type": "code",
   "execution_count": 115,
   "metadata": {},
   "outputs": [
    {
     "data": {
      "text/plain": [
       "6.215607598755275"
      ]
     },
     "execution_count": 115,
     "metadata": {},
     "output_type": "execute_result"
    }
   ],
   "source": [
    "phi_gp"
   ]
  },
  {
   "cell_type": "code",
   "execution_count": null,
   "metadata": {},
   "outputs": [],
   "source": []
  }
 ],
 "metadata": {
  "kernelspec": {
   "display_name": "Python 3",
   "language": "python",
   "name": "python3"
  },
  "language_info": {
   "codemirror_mode": {
    "name": "ipython",
    "version": 3
   },
   "file_extension": ".py",
   "mimetype": "text/x-python",
   "name": "python",
   "nbconvert_exporter": "python",
   "pygments_lexer": "ipython3",
   "version": "3.9.0"
  }
 },
 "nbformat": 4,
 "nbformat_minor": 2
}
