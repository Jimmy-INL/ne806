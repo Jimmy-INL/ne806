{
 "cells": [
  {
   "cell_type": "markdown",
   "metadata": {},
   "source": [
    "$$\n",
    "  \\Sigma_t(E) \\psi(E) = \\frac{1}{4\\pi} \\int^{\\infty}_{0} \\Sigma_s(E'\\to E)\\phi(E') dE' \n",
    "         + \\frac{\\chi(E)}{4\\pi k} \\int^{\\infty}_0 \\nu\\Sigma_f(E')\\phi(E')dE' \\, .\n",
    "$$\n",
    "\n",
    "$$\n",
    "  \\Sigma_t(E) \\phi(E) = \\int^{\\infty}_{0} \\Sigma_s(E'\\to E)\\phi(E') dE' \n",
    "         + \\frac{\\chi(E)}{ k} \\int^{\\infty}_0 \\nu\\Sigma_f(E')\\phi(E')dE' \\, .\n",
    "$$"
   ]
  },
  {
   "cell_type": "markdown",
   "metadata": {},
   "source": [
    "$$\n",
    "   \\Sigma_{t,g} \\phi_g = \\sum^{N_g}_{g'=1} \\Sigma_{s,gg'} \\phi_{g'} + \\frac{\\chi_g}{\\color{red}{k_{\\infty}}} \\sum^{N_g}_{g'=1} \\nu\\Sigma_{f,g'} \\phi_{g'} \\, , \\qquad g = 1, 2, \\ldots, N_g \\, .\n",
    "$$"
   ]
  },
  {
   "cell_type": "markdown",
   "metadata": {},
   "source": [
    "$$\n",
    "   \\mathbf{T} \\boldsymbol{\\phi} \n",
    "      = \\mathbf{S} \\boldsymbol{\\phi} \n",
    "        +  \\frac{1}{k} \\boldsymbol{x}^T \\boldsymbol{f} \\boldsymbol{\\phi} \\, .\n",
    "$$"
   ]
  },
  {
   "cell_type": "markdown",
   "metadata": {},
   "source": [
    "Here, \n",
    "\n",
    "  - $\\mathbf{T} = \\text{diag}(\\Sigma_{t,:})$\n",
    "  - $\\mathbf{S}$ has elements $S_{gg'} = \\Sigma_{s, gg'}$\n",
    "  - $\\mathbf{x}^T = [\\chi_1, \\chi_2, \\ldots]$ and $\\mathbf{f} = [\\nu\\Sigma_{f,1} \\ldots]$"
   ]
  },
  {
   "cell_type": "markdown",
   "metadata": {},
   "source": [
    "$$\n",
    "    \\overbrace{\\big ( \\mathbf{T} - \\mathbf{S}  \\big )^{-1}  (\\boldsymbol{x}^T \\boldsymbol{f})}^{\\mathbf{A}}   \n",
    "    \\boldsymbol{\\phi}\n",
    "      =  k  \\boldsymbol{\\phi}  \\, .\n",
    "$$"
   ]
  },
  {
   "cell_type": "markdown",
   "metadata": {},
   "source": [
    "$$\n",
    " R_g = <\\Sigma, \\phi>_g = \\Sigma^{eff}_g \\phi_g  \\rightarrow \\boxed{\\Sigma^{eff}_g = <\\Sigma, \\phi>_g / \\phi_g}\n",
    "$$"
   ]
  },
  {
   "cell_type": "markdown",
   "metadata": {},
   "source": [
    "$$\n",
    " \\Sigma_s(E') = \\int^{\\infty}_0 \\Sigma_s(E'\\to E) dE = \\int^{\\infty}_0 \\Sigma_s(E') \\overbrace{f(E'\\to E)}^{1/[E'(1-\\alpha)]} dE\n",
    "$$"
   ]
  },
  {
   "cell_type": "markdown",
   "metadata": {},
   "source": [
    "$\\Sigma_s(E'\\to E)  = \\Sigma_s(E') f(E'\\to E) \\rightarrow \\Sigma_{g'g}$"
   ]
  },
  {
   "cell_type": "markdown",
   "metadata": {},
   "source": [
    "$$ \n",
    "   R_{g'g}  = \\int^{E_{g-1}}_{E_g} dE \\int^{E_{g'-1}}_{E_g'} dE'  \\Sigma_s(E'\\to E)\\phi(E') \n",
    "$$\n",
    "\n",
    "$$ \n",
    "   R_{g'g}  = \\int^{E_{g-1}}_{E_g} dE \\int^{E_{g'-1}}_{E_g'} dE'  \\Sigma_s(E')f(E'\\to E)\\phi(E') \n",
    "$$"
   ]
  },
  {
   "cell_type": "markdown",
   "metadata": {},
   "source": [
    "$$ \n",
    "   R_{g'g}  =  \\int^{E_{g'-1}}_{E_g'} dE'  \\Sigma_s(E') \\phi(E')   \\int^{E_{g-1}}_{E_g} dE f(E'\\to E) \n",
    "$$\n"
   ]
  },
  {
   "cell_type": "markdown",
   "metadata": {},
   "source": [
    "$$\n",
    "\\Sigma_{s,g'g} \\rightarrow \\Sigma_{s, g} = \\sum^{N_g}_{g'=1} \\Sigma_{s,gg'}\n",
    "$$"
   ]
  },
  {
   "cell_type": "code",
   "execution_count": null,
   "metadata": {},
   "outputs": [],
   "source": []
  }
 ],
 "metadata": {
  "kernelspec": {
   "display_name": "Python 3",
   "language": "python",
   "name": "python3"
  },
  "language_info": {
   "codemirror_mode": {
    "name": "ipython",
    "version": 3
   },
   "file_extension": ".py",
   "mimetype": "text/x-python",
   "name": "python",
   "nbconvert_exporter": "python",
   "pygments_lexer": "ipython3",
   "version": "3.7.3"
  }
 },
 "nbformat": 4,
 "nbformat_minor": 2
}
